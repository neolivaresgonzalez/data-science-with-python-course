{
 "cells": [
  {
   "cell_type": "markdown",
   "id": "4cdf75f5-4a83-4411-b2d7-8d396e47496a",
   "metadata": {},
   "source": [
    "# Basic Course for Python data processing\n",
    "\n"
   ]
  },
  {
   "cell_type": "markdown",
   "id": "8901eb49-4eb0-4a6c-bb29-b907872cfe1c",
   "metadata": {},
   "source": [
    "## Introduction to Python Programming"
   ]
  },
  {
   "cell_type": "code",
   "execution_count": 4,
   "id": "a83c7e7a-63f9-42a8-80a2-a127b0e7592d",
   "metadata": {},
   "outputs": [],
   "source": [
    "numberA=10\n",
    "stringB=\"Some text\"\n",
    "decimalNumberC=0.1111"
   ]
  },
  {
   "cell_type": "code",
   "execution_count": 5,
   "id": "dfaec1d1-21c9-48ae-9037-0de23454534a",
   "metadata": {},
   "outputs": [
    {
     "name": "stdout",
     "output_type": "stream",
     "text": [
      "10\n",
      "Some text\n",
      "0.1111\n"
     ]
    }
   ],
   "source": [
    "print(numberA)\n",
    "print(stringB)\n",
    "print(decimalNumberC)"
   ]
  },
  {
   "cell_type": "code",
   "execution_count": null,
   "id": "3bb85053-699f-4278-9cb6-81e4f5ae7a02",
   "metadata": {},
   "outputs": [],
   "source": []
  }
 ],
 "metadata": {
  "kernelspec": {
   "display_name": ".venv",
   "language": "python",
   "name": "python3"
  },
  "language_info": {
   "codemirror_mode": {
    "name": "ipython",
    "version": 3
   },
   "file_extension": ".py",
   "mimetype": "text/x-python",
   "name": "python",
   "nbconvert_exporter": "python",
   "pygments_lexer": "ipython3",
   "version": "3.12.11"
  }
 },
 "nbformat": 4,
 "nbformat_minor": 5
}
