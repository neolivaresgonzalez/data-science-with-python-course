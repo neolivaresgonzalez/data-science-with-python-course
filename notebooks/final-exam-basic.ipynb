{
 "cells": [
  {
   "cell_type": "markdown",
   "id": "3289edf4",
   "metadata": {},
   "source": [
    "# Final test: Bank's customers database\n",
    "\n",
    "The final evaluation aims to apply programming tools to process a customer database from a bank based in Chile.\n",
    "The procedure consists of loading the file, cleaning the data, processing it, and finally saving the result.\n",
    "You must create a Python script that performs the above following the sequence of tasks specified below.\n",
    "\n",
    "## Tasks\n",
    "\n",
    "- T1: Load file\n",
    "  - T1.1: Open the file \"[customers_dataset.csv](../data/customers_dataset.csv )\" without a fixed path\n",
    "  - T1.2: Read file \"[customers_dataset.csv](../data/customers_dataset.csv )\"\n",
    "  - T1.3: Split in columns the information inside the file \"[customers_dataset.csv](../data/customers_dataset.csv )\"\n",
    "  - T1.4: Add columns to a list\n",
    "  - T1.5: Add previous list into a list of lists\n",
    "- T2: Data cleansing\n",
    "  - T2.1: Remove characters from the begining of the first column \n",
    "  - T2.2: Remove dash \"-\" from the birthdate\n",
    "  - T2.3: Extract the year of a person\n",
    "  - T2.4: Calculate the age of a person\n",
    "  - T2.5: Add calculated age into a column (create if it doesn't exists)\n",
    "- T3: Save changes\n",
    "  - T3.1: Open a new file \"clientes_limpios.csv\"\n",
    "  - T3.2: Write the changes inside the new file\n",
    "  - T3.3: Close the open file"
   ]
  },
  {
   "cell_type": "markdown",
   "id": "01da1b64",
   "metadata": {},
   "source": [
    "## Analysis\n",
    "\n",
    "- File contains the information of the customers of a bank based in Chile.\n",
    "- File doesn't have headers to recognize columns.\n",
    "- But columns name has been given:\n",
    "  - Columns:\n",
    "    - RUT (Unique Identification Number from Chile)\n",
    "    - Fullname: Not every customer has a name stored\n",
    "    - Gender\n",
    "    - Brithdate\n",
    "    - Age\n",
    "    - Customer type\n",
    "    - Account balance\n",
    "    - Credit score: Decimal between 0 and 10. It shows the customer's score to apply for credits\n",
    "- Some information is corrupted. It needs to be cleaned.\n",
    "  - Remove characters from the begining of the first column \n",
    "  - Remove dash \"-\" from the birthdate\n",
    "- The ages is not correctly loaded and the age values appear in the dataset like \"xxx\". It needs to be calculated and replaced\n"
   ]
  },
  {
   "cell_type": "markdown",
   "id": "f0600b18",
   "metadata": {},
   "source": [
    "## Load file"
   ]
  },
  {
   "cell_type": "code",
   "execution_count": null,
   "id": "145f9bb4",
   "metadata": {},
   "outputs": [
    {
     "name": "stdout",
     "output_type": "stream",
     "text": [
      "['A.!--16.650.760-6', 'Ignacia María Quiroga Valenzuela', 'FEMENINO', '1969-/-1-/-27', 'xxx', 'C', '5928015', '2.87']\n",
      "['A.!--10.488.986-5', 'Daniela Paula Muñoz Rodríguez', 'FEMENINO', '1989-/-12-/-26', 'xxx', 'E', '4832251', '4.69']\n",
      "['A.!--19.275.194-5', '', 'FEMENINO', '1984-/-2-/-17', 'xxx', 'D', '950966', '2.88']\n"
     ]
    }
   ],
   "source": [
    "filePath = input(\"Enter the file path: \")\n",
    "\n",
    "# T1.1 Open a file in read mode\n",
    "# Using Visual Studio Code, I detected that the encoding of the file is windows-1252\n",
    "# However, to ensure compatibility, I will use utf-8 encoding by saving the file again with the new encoding, so that it works on all systems\n",
    "file = open(filePath,\"r\",encoding=\"utf-8\")\n",
    "\n",
    "\n",
    "# T1.2 Read all the lines of the file\n",
    "lines = file.readlines()\n",
    "\n",
    "# Close the file after reading\n",
    "# This is a good practice to avoid memory leaks and file locks\n",
    "# In this case, it is not strictly necessary since we are not writing to the file,\n",
    "# but it is a good habit to close files after use\n",
    "file.close()\n",
    "\n",
    "# T1.3 Split in columns the information of every line divided by a semicolon (;) and remove any extra spaces like \\n\n",
    "# T1.4: Add columns to a list\n",
    "# T1.5: Add previous list into a list of lists\n",
    "customers = [line.strip().split(';') for line in lines]\n",
    "\n",
    "# Lets print the first 3 customers to verify the data\n",
    "for customer in customers[:3]:\n",
    "    print(customer)\n",
    "\n"
   ]
  },
  {
   "cell_type": "markdown",
   "id": "bc02d341",
   "metadata": {},
   "source": [
    "## Cleansing"
   ]
  },
  {
   "cell_type": "code",
   "execution_count": 46,
   "id": "9fae1546",
   "metadata": {},
   "outputs": [
    {
     "name": "stdout",
     "output_type": "stream",
     "text": [
      "Original RUTs:\n",
      "A.!--16.650.760-6\n",
      "A.!--10.488.986-5\n",
      "A.!--19.275.194-5\n",
      "Cleaned RUTs:\n",
      "16.650.760-6\n",
      "10.488.986-5\n",
      "19.275.194-5\n",
      "Original Birthdates:\n",
      "1969-/-1-/-27\n",
      "1989-/-12-/-26\n",
      "1984-/-2-/-17\n",
      "Cleaned Birthdates:\n",
      "1969/1/27\n",
      "1989/12/26\n",
      "1984/2/17\n",
      "Original ages...\n",
      "xxx\n",
      "xxx\n",
      "xxx\n",
      "Calculated ages...\n",
      "56\n",
      "36\n",
      "41\n",
      "First 3 customers after cleaning:\n",
      "['16.650.760-6', 'Ignacia María Quiroga Valenzuela', 'FEMENINO', '1969/1/27', '56', 'C', '5928015', '2.87']\n",
      "['10.488.986-5', 'Daniela Paula Muñoz Rodríguez', 'FEMENINO', '1989/12/26', '36', 'E', '4832251', '4.69']\n",
      "['19.275.194-5', '', 'FEMENINO', '1984/2/17', '41', 'D', '950966', '2.88']\n"
     ]
    }
   ],
   "source": [
    "#T2.1 Clean the first column of the customers list\n",
    "# The first column contains some extra characters 'A.!--' at the begining of the RUTs, so we will remove them.\n",
    "# There are 5 characters to remove. So we will use slicing to remove the first 5 characters of each RUT.\n",
    "# We could also use the `replace` method, but since we know the exact characters to remove, slicing is more efficient.\n",
    "# We will also remove any extra spaces that may be present just in case.\n",
    "\n",
    "# Lets print the first 3 RUTs to compare the data before and after the cleaning\n",
    "print(\"Original RUTs:\")\n",
    "for customer in customers[:3]:\n",
    "    print(customer[0])\n",
    "\n",
    "for customer in customers:\n",
    "    # Check if the first element starts with 'A.!--'\n",
    "    if customer[0].startswith('A.!--'):\n",
    "        # Remove the first 5 characters and strip any extra spaces\n",
    "        customer[0] = customer[0].strip()[5:len(customer[0].strip())]\n",
    "\n",
    "# Lets print the first 3 cleaned RUTs to verify the data\n",
    "print(\"Cleaned RUTs:\")\n",
    "for customer in customers[:3]:\n",
    "    print(customer[0])\n",
    "\n",
    "#T2.2: Clean dash '-' from the birthdate column\n",
    "# The birthdate column is the 4th column (index 3) in the customers list.\n",
    "# We will remove the dash '-' from the birthdate column and strip any extra spaces that may be present.\n",
    "# We will use the `replace` method to remove the dash and the `strip` method to remove any extra spaces.\n",
    "# We are not using slicing here because we want to remove the dash from anywhere in the string, not just from the beginning or end.\n",
    "print(\"Original Birthdates:\")\n",
    "for customer in customers[:3]:\n",
    "    print(customer[3])\n",
    "\n",
    "\n",
    "for customer in customers:\n",
    "    # Check if the birthdate column contains a dash '-'\n",
    "    if '-' in customer[3]:\n",
    "        # Remove the dash and strip any extra spaces\n",
    "        customer[3] = customer[3].replace('-', '').strip()\n",
    "\n",
    "# Lets print the first 3 cleaned birthdates to verify the data\n",
    "print(\"Cleaned Birthdates:\")\n",
    "for customer in customers[:3]:\n",
    "    print(customer[3])\n",
    "\n",
    "# Lets print the original ages to compare the data before and after the cleaning\n",
    "print(\"Original ages...\")\n",
    "for customer in customers[:3]:\n",
    "    print(customer[4])\n",
    "\n",
    "from datetime import datetime\n",
    "# Using this module the calculation of the age will be easier and more accurate everytime we run the code\n",
    "for customer in customers:\n",
    "    # T2.3: Extract the year of a person\n",
    "    year = int(customer[3][:4]) # The format is YYYY/MM/DD, so we take the first 4 characters\n",
    "    #T2.4: Calculate the age of a person\n",
    "    age = datetime.now().year - year\n",
    "    #T2.5: Add the age to the customer list\n",
    "    # Actually, the age replaces the age value in the 5th column (index 4) of the customer list\n",
    "    # Previously, the age was a string with 'xxx' value in it, so we will replace it with the calculated age\n",
    "    customer[4] = str(age)  # Convert age to string to maintain consistency with other columns\n",
    "\n",
    "# Lets print the first 3 calculated ages to verify the data\n",
    "print(\"Calculated ages...\")\n",
    "for customer in customers[:3]:\n",
    "    print(customer[4])\n",
    "\n",
    "# Lets print the first 3 customers after cleaning to verify the data\n",
    "print(\"First 3 customers after cleaning:\")\n",
    "for customer in customers[:3]:\n",
    "    print(customer)"
   ]
  },
  {
   "cell_type": "markdown",
   "id": "4072c75b",
   "metadata": {},
   "source": [
    "## Save changes"
   ]
  },
  {
   "cell_type": "code",
   "execution_count": 47,
   "id": "023f7b06",
   "metadata": {},
   "outputs": [
    {
     "name": "stdout",
     "output_type": "stream",
     "text": [
      "Saving cleaned data to ../output/cleaned_2.csv...\n",
      "Data saved to ../output/cleaned_2.csv successfully!\n"
     ]
    }
   ],
   "source": [
    "# T3.1: Open a file in write mode\n",
    "saveFileName = input(\"Enter the name of the file to save the cleaned data: \")\n",
    "output_file_path = f'../output/cleaned_{saveFileName}.csv'\n",
    "\n",
    "print(f\"Saving cleaned data to {output_file_path}...\")\n",
    "\n",
    "file = open(output_file_path, 'w', encoding='utf-8')\n",
    "# T3.2: Write the cleaned data to the file\n",
    "for customer in customers:\n",
    "    # Join the customer data with semicolons and write to the file\n",
    "    file.write(';'.join(customer) + '\\n')\n",
    "\n",
    "# T3.3: Close the file\n",
    "file.close()\n",
    "\n",
    "# Notify the user that the data has been saved\n",
    "print(f\"Data saved to {output_file_path} successfully!\")"
   ]
  }
 ],
 "metadata": {
  "kernelspec": {
   "display_name": ".venv",
   "language": "python",
   "name": "python3"
  },
  "language_info": {
   "codemirror_mode": {
    "name": "ipython",
    "version": 3
   },
   "file_extension": ".py",
   "mimetype": "text/x-python",
   "name": "python",
   "nbconvert_exporter": "python",
   "pygments_lexer": "ipython3",
   "version": "3.12.11"
  }
 },
 "nbformat": 4,
 "nbformat_minor": 5
}
