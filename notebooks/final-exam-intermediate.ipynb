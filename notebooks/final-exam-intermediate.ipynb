{
 "cells": [
  {
   "cell_type": "markdown",
   "id": "c2cd014d",
   "metadata": {},
   "source": [
    "# Data Science with Python Course Exam Intermediate level\n",
    "\n",
    "On this activity we work with the receipt's data of a papercraft company called \"DM\", we will integrate this data with the product dataset of the company to extract valuable information."
   ]
  },
  {
   "cell_type": "code",
   "execution_count": 1,
   "id": "aa479da0",
   "metadata": {},
   "outputs": [
    {
     "name": "stdout",
     "output_type": "stream",
     "text": [
      "Requirement already satisfied: jupyter in /Users/nicolasog/Development/data-science-with-python-course/.venv/lib/python3.12/site-packages (from -r ../requirements.txt (line 1)) (1.1.1)\n",
      "Requirement already satisfied: notebook in /Users/nicolasog/Development/data-science-with-python-course/.venv/lib/python3.12/site-packages (from -r ../requirements.txt (line 2)) (7.4.3)\n",
      "Requirement already satisfied: pandas in /Users/nicolasog/Development/data-science-with-python-course/.venv/lib/python3.12/site-packages (from -r ../requirements.txt (line 3)) (2.3.1)\n",
      "Requirement already satisfied: numpy in /Users/nicolasog/Development/data-science-with-python-course/.venv/lib/python3.12/site-packages (from -r ../requirements.txt (line 4)) (2.3.2)\n",
      "Requirement already satisfied: jupyter-console in /Users/nicolasog/Development/data-science-with-python-course/.venv/lib/python3.12/site-packages (from jupyter->-r ../requirements.txt (line 1)) (6.6.3)\n",
      "Requirement already satisfied: nbconvert in /Users/nicolasog/Development/data-science-with-python-course/.venv/lib/python3.12/site-packages (from jupyter->-r ../requirements.txt (line 1)) (7.16.6)\n",
      "Requirement already satisfied: ipykernel in /Users/nicolasog/Development/data-science-with-python-course/.venv/lib/python3.12/site-packages (from jupyter->-r ../requirements.txt (line 1)) (6.29.5)\n",
      "Requirement already satisfied: ipywidgets in /Users/nicolasog/Development/data-science-with-python-course/.venv/lib/python3.12/site-packages (from jupyter->-r ../requirements.txt (line 1)) (8.1.7)\n",
      "Requirement already satisfied: jupyterlab in /Users/nicolasog/Development/data-science-with-python-course/.venv/lib/python3.12/site-packages (from jupyter->-r ../requirements.txt (line 1)) (4.4.3)\n",
      "Requirement already satisfied: jupyter-server<3,>=2.4.0 in /Users/nicolasog/Development/data-science-with-python-course/.venv/lib/python3.12/site-packages (from notebook->-r ../requirements.txt (line 2)) (2.16.0)\n",
      "Requirement already satisfied: jupyterlab-server<3,>=2.27.1 in /Users/nicolasog/Development/data-science-with-python-course/.venv/lib/python3.12/site-packages (from notebook->-r ../requirements.txt (line 2)) (2.27.3)\n",
      "Requirement already satisfied: notebook-shim<0.3,>=0.2 in /Users/nicolasog/Development/data-science-with-python-course/.venv/lib/python3.12/site-packages (from notebook->-r ../requirements.txt (line 2)) (0.2.4)\n",
      "Requirement already satisfied: tornado>=6.2.0 in /Users/nicolasog/Development/data-science-with-python-course/.venv/lib/python3.12/site-packages (from notebook->-r ../requirements.txt (line 2)) (6.5.1)\n",
      "Requirement already satisfied: python-dateutil>=2.8.2 in /Users/nicolasog/Development/data-science-with-python-course/.venv/lib/python3.12/site-packages (from pandas->-r ../requirements.txt (line 3)) (2.9.0.post0)\n",
      "Requirement already satisfied: pytz>=2020.1 in /Users/nicolasog/Development/data-science-with-python-course/.venv/lib/python3.12/site-packages (from pandas->-r ../requirements.txt (line 3)) (2025.2)\n",
      "Requirement already satisfied: tzdata>=2022.7 in /Users/nicolasog/Development/data-science-with-python-course/.venv/lib/python3.12/site-packages (from pandas->-r ../requirements.txt (line 3)) (2025.2)\n",
      "Requirement already satisfied: anyio>=3.1.0 in /Users/nicolasog/Development/data-science-with-python-course/.venv/lib/python3.12/site-packages (from jupyter-server<3,>=2.4.0->notebook->-r ../requirements.txt (line 2)) (4.9.0)\n",
      "Requirement already satisfied: argon2-cffi>=21.1 in /Users/nicolasog/Development/data-science-with-python-course/.venv/lib/python3.12/site-packages (from jupyter-server<3,>=2.4.0->notebook->-r ../requirements.txt (line 2)) (25.1.0)\n",
      "Requirement already satisfied: jinja2>=3.0.3 in /Users/nicolasog/Development/data-science-with-python-course/.venv/lib/python3.12/site-packages (from jupyter-server<3,>=2.4.0->notebook->-r ../requirements.txt (line 2)) (3.1.6)\n",
      "Requirement already satisfied: jupyter-client>=7.4.4 in /Users/nicolasog/Development/data-science-with-python-course/.venv/lib/python3.12/site-packages (from jupyter-server<3,>=2.4.0->notebook->-r ../requirements.txt (line 2)) (8.6.3)\n",
      "Requirement already satisfied: jupyter-core!=5.0.*,>=4.12 in /Users/nicolasog/Development/data-science-with-python-course/.venv/lib/python3.12/site-packages (from jupyter-server<3,>=2.4.0->notebook->-r ../requirements.txt (line 2)) (5.8.1)\n",
      "Requirement already satisfied: jupyter-events>=0.11.0 in /Users/nicolasog/Development/data-science-with-python-course/.venv/lib/python3.12/site-packages (from jupyter-server<3,>=2.4.0->notebook->-r ../requirements.txt (line 2)) (0.12.0)\n",
      "Requirement already satisfied: jupyter-server-terminals>=0.4.4 in /Users/nicolasog/Development/data-science-with-python-course/.venv/lib/python3.12/site-packages (from jupyter-server<3,>=2.4.0->notebook->-r ../requirements.txt (line 2)) (0.5.3)\n",
      "Requirement already satisfied: nbformat>=5.3.0 in /Users/nicolasog/Development/data-science-with-python-course/.venv/lib/python3.12/site-packages (from jupyter-server<3,>=2.4.0->notebook->-r ../requirements.txt (line 2)) (5.10.4)\n",
      "Requirement already satisfied: overrides>=5.0 in /Users/nicolasog/Development/data-science-with-python-course/.venv/lib/python3.12/site-packages (from jupyter-server<3,>=2.4.0->notebook->-r ../requirements.txt (line 2)) (7.7.0)\n",
      "Requirement already satisfied: packaging>=22.0 in /Users/nicolasog/Development/data-science-with-python-course/.venv/lib/python3.12/site-packages (from jupyter-server<3,>=2.4.0->notebook->-r ../requirements.txt (line 2)) (25.0)\n",
      "Requirement already satisfied: prometheus-client>=0.9 in /Users/nicolasog/Development/data-science-with-python-course/.venv/lib/python3.12/site-packages (from jupyter-server<3,>=2.4.0->notebook->-r ../requirements.txt (line 2)) (0.22.1)\n",
      "Requirement already satisfied: pyzmq>=24 in /Users/nicolasog/Development/data-science-with-python-course/.venv/lib/python3.12/site-packages (from jupyter-server<3,>=2.4.0->notebook->-r ../requirements.txt (line 2)) (27.0.0)\n",
      "Requirement already satisfied: send2trash>=1.8.2 in /Users/nicolasog/Development/data-science-with-python-course/.venv/lib/python3.12/site-packages (from jupyter-server<3,>=2.4.0->notebook->-r ../requirements.txt (line 2)) (1.8.3)\n",
      "Requirement already satisfied: terminado>=0.8.3 in /Users/nicolasog/Development/data-science-with-python-course/.venv/lib/python3.12/site-packages (from jupyter-server<3,>=2.4.0->notebook->-r ../requirements.txt (line 2)) (0.18.1)\n",
      "Requirement already satisfied: traitlets>=5.6.0 in /Users/nicolasog/Development/data-science-with-python-course/.venv/lib/python3.12/site-packages (from jupyter-server<3,>=2.4.0->notebook->-r ../requirements.txt (line 2)) (5.14.3)\n",
      "Requirement already satisfied: websocket-client>=1.7 in /Users/nicolasog/Development/data-science-with-python-course/.venv/lib/python3.12/site-packages (from jupyter-server<3,>=2.4.0->notebook->-r ../requirements.txt (line 2)) (1.8.0)\n",
      "Requirement already satisfied: async-lru>=1.0.0 in /Users/nicolasog/Development/data-science-with-python-course/.venv/lib/python3.12/site-packages (from jupyterlab->jupyter->-r ../requirements.txt (line 1)) (2.0.5)\n",
      "Requirement already satisfied: httpx>=0.25.0 in /Users/nicolasog/Development/data-science-with-python-course/.venv/lib/python3.12/site-packages (from jupyterlab->jupyter->-r ../requirements.txt (line 1)) (0.28.1)\n",
      "Requirement already satisfied: jupyter-lsp>=2.0.0 in /Users/nicolasog/Development/data-science-with-python-course/.venv/lib/python3.12/site-packages (from jupyterlab->jupyter->-r ../requirements.txt (line 1)) (2.2.5)\n",
      "Requirement already satisfied: setuptools>=41.1.0 in /Users/nicolasog/Development/data-science-with-python-course/.venv/lib/python3.12/site-packages (from jupyterlab->jupyter->-r ../requirements.txt (line 1)) (80.9.0)\n",
      "Requirement already satisfied: appnope in /Users/nicolasog/Development/data-science-with-python-course/.venv/lib/python3.12/site-packages (from ipykernel->jupyter->-r ../requirements.txt (line 1)) (0.1.4)\n",
      "Requirement already satisfied: comm>=0.1.1 in /Users/nicolasog/Development/data-science-with-python-course/.venv/lib/python3.12/site-packages (from ipykernel->jupyter->-r ../requirements.txt (line 1)) (0.2.2)\n",
      "Requirement already satisfied: debugpy>=1.6.5 in /Users/nicolasog/Development/data-science-with-python-course/.venv/lib/python3.12/site-packages (from ipykernel->jupyter->-r ../requirements.txt (line 1)) (1.8.14)\n",
      "Requirement already satisfied: ipython>=7.23.1 in /Users/nicolasog/Development/data-science-with-python-course/.venv/lib/python3.12/site-packages (from ipykernel->jupyter->-r ../requirements.txt (line 1)) (9.3.0)\n",
      "Requirement already satisfied: matplotlib-inline>=0.1 in /Users/nicolasog/Development/data-science-with-python-course/.venv/lib/python3.12/site-packages (from ipykernel->jupyter->-r ../requirements.txt (line 1)) (0.1.7)\n",
      "Requirement already satisfied: nest-asyncio in /Users/nicolasog/Development/data-science-with-python-course/.venv/lib/python3.12/site-packages (from ipykernel->jupyter->-r ../requirements.txt (line 1)) (1.6.0)\n",
      "Requirement already satisfied: psutil in /Users/nicolasog/Development/data-science-with-python-course/.venv/lib/python3.12/site-packages (from ipykernel->jupyter->-r ../requirements.txt (line 1)) (7.0.0)\n",
      "Requirement already satisfied: babel>=2.10 in /Users/nicolasog/Development/data-science-with-python-course/.venv/lib/python3.12/site-packages (from jupyterlab-server<3,>=2.27.1->notebook->-r ../requirements.txt (line 2)) (2.17.0)\n",
      "Requirement already satisfied: json5>=0.9.0 in /Users/nicolasog/Development/data-science-with-python-course/.venv/lib/python3.12/site-packages (from jupyterlab-server<3,>=2.27.1->notebook->-r ../requirements.txt (line 2)) (0.12.0)\n",
      "Requirement already satisfied: jsonschema>=4.18.0 in /Users/nicolasog/Development/data-science-with-python-course/.venv/lib/python3.12/site-packages (from jupyterlab-server<3,>=2.27.1->notebook->-r ../requirements.txt (line 2)) (4.24.0)\n",
      "Requirement already satisfied: requests>=2.31 in /Users/nicolasog/Development/data-science-with-python-course/.venv/lib/python3.12/site-packages (from jupyterlab-server<3,>=2.27.1->notebook->-r ../requirements.txt (line 2)) (2.32.4)\n",
      "Requirement already satisfied: beautifulsoup4 in /Users/nicolasog/Development/data-science-with-python-course/.venv/lib/python3.12/site-packages (from nbconvert->jupyter->-r ../requirements.txt (line 1)) (4.13.4)\n",
      "Requirement already satisfied: bleach!=5.0.0 in /Users/nicolasog/Development/data-science-with-python-course/.venv/lib/python3.12/site-packages (from bleach[css]!=5.0.0->nbconvert->jupyter->-r ../requirements.txt (line 1)) (6.2.0)\n",
      "Requirement already satisfied: defusedxml in /Users/nicolasog/Development/data-science-with-python-course/.venv/lib/python3.12/site-packages (from nbconvert->jupyter->-r ../requirements.txt (line 1)) (0.7.1)\n",
      "Requirement already satisfied: jupyterlab-pygments in /Users/nicolasog/Development/data-science-with-python-course/.venv/lib/python3.12/site-packages (from nbconvert->jupyter->-r ../requirements.txt (line 1)) (0.3.0)\n",
      "Requirement already satisfied: markupsafe>=2.0 in /Users/nicolasog/Development/data-science-with-python-course/.venv/lib/python3.12/site-packages (from nbconvert->jupyter->-r ../requirements.txt (line 1)) (3.0.2)\n",
      "Requirement already satisfied: mistune<4,>=2.0.3 in /Users/nicolasog/Development/data-science-with-python-course/.venv/lib/python3.12/site-packages (from nbconvert->jupyter->-r ../requirements.txt (line 1)) (3.1.3)\n",
      "Requirement already satisfied: nbclient>=0.5.0 in /Users/nicolasog/Development/data-science-with-python-course/.venv/lib/python3.12/site-packages (from nbconvert->jupyter->-r ../requirements.txt (line 1)) (0.10.2)\n",
      "Requirement already satisfied: pandocfilters>=1.4.1 in /Users/nicolasog/Development/data-science-with-python-course/.venv/lib/python3.12/site-packages (from nbconvert->jupyter->-r ../requirements.txt (line 1)) (1.5.1)\n",
      "Requirement already satisfied: pygments>=2.4.1 in /Users/nicolasog/Development/data-science-with-python-course/.venv/lib/python3.12/site-packages (from nbconvert->jupyter->-r ../requirements.txt (line 1)) (2.19.2)\n",
      "Requirement already satisfied: six>=1.5 in /Users/nicolasog/Development/data-science-with-python-course/.venv/lib/python3.12/site-packages (from python-dateutil>=2.8.2->pandas->-r ../requirements.txt (line 3)) (1.17.0)\n",
      "Requirement already satisfied: widgetsnbextension~=4.0.14 in /Users/nicolasog/Development/data-science-with-python-course/.venv/lib/python3.12/site-packages (from ipywidgets->jupyter->-r ../requirements.txt (line 1)) (4.0.14)\n",
      "Requirement already satisfied: jupyterlab_widgets~=3.0.15 in /Users/nicolasog/Development/data-science-with-python-course/.venv/lib/python3.12/site-packages (from ipywidgets->jupyter->-r ../requirements.txt (line 1)) (3.0.15)\n",
      "Requirement already satisfied: prompt-toolkit>=3.0.30 in /Users/nicolasog/Development/data-science-with-python-course/.venv/lib/python3.12/site-packages (from jupyter-console->jupyter->-r ../requirements.txt (line 1)) (3.0.51)\n",
      "Requirement already satisfied: idna>=2.8 in /Users/nicolasog/Development/data-science-with-python-course/.venv/lib/python3.12/site-packages (from anyio>=3.1.0->jupyter-server<3,>=2.4.0->notebook->-r ../requirements.txt (line 2)) (3.10)\n",
      "Requirement already satisfied: sniffio>=1.1 in /Users/nicolasog/Development/data-science-with-python-course/.venv/lib/python3.12/site-packages (from anyio>=3.1.0->jupyter-server<3,>=2.4.0->notebook->-r ../requirements.txt (line 2)) (1.3.1)\n",
      "Requirement already satisfied: typing_extensions>=4.5 in /Users/nicolasog/Development/data-science-with-python-course/.venv/lib/python3.12/site-packages (from anyio>=3.1.0->jupyter-server<3,>=2.4.0->notebook->-r ../requirements.txt (line 2)) (4.14.0)\n",
      "Requirement already satisfied: argon2-cffi-bindings in /Users/nicolasog/Development/data-science-with-python-course/.venv/lib/python3.12/site-packages (from argon2-cffi>=21.1->jupyter-server<3,>=2.4.0->notebook->-r ../requirements.txt (line 2)) (21.2.0)\n",
      "Requirement already satisfied: webencodings in /Users/nicolasog/Development/data-science-with-python-course/.venv/lib/python3.12/site-packages (from bleach!=5.0.0->bleach[css]!=5.0.0->nbconvert->jupyter->-r ../requirements.txt (line 1)) (0.5.1)\n",
      "Requirement already satisfied: tinycss2<1.5,>=1.1.0 in /Users/nicolasog/Development/data-science-with-python-course/.venv/lib/python3.12/site-packages (from bleach[css]!=5.0.0->nbconvert->jupyter->-r ../requirements.txt (line 1)) (1.4.0)\n",
      "Requirement already satisfied: certifi in /Users/nicolasog/Development/data-science-with-python-course/.venv/lib/python3.12/site-packages (from httpx>=0.25.0->jupyterlab->jupyter->-r ../requirements.txt (line 1)) (2025.6.15)\n",
      "Requirement already satisfied: httpcore==1.* in /Users/nicolasog/Development/data-science-with-python-course/.venv/lib/python3.12/site-packages (from httpx>=0.25.0->jupyterlab->jupyter->-r ../requirements.txt (line 1)) (1.0.9)\n",
      "Requirement already satisfied: h11>=0.16 in /Users/nicolasog/Development/data-science-with-python-course/.venv/lib/python3.12/site-packages (from httpcore==1.*->httpx>=0.25.0->jupyterlab->jupyter->-r ../requirements.txt (line 1)) (0.16.0)\n",
      "Requirement already satisfied: decorator in /Users/nicolasog/Development/data-science-with-python-course/.venv/lib/python3.12/site-packages (from ipython>=7.23.1->ipykernel->jupyter->-r ../requirements.txt (line 1)) (5.2.1)\n",
      "Requirement already satisfied: ipython-pygments-lexers in /Users/nicolasog/Development/data-science-with-python-course/.venv/lib/python3.12/site-packages (from ipython>=7.23.1->ipykernel->jupyter->-r ../requirements.txt (line 1)) (1.1.1)\n",
      "Requirement already satisfied: jedi>=0.16 in /Users/nicolasog/Development/data-science-with-python-course/.venv/lib/python3.12/site-packages (from ipython>=7.23.1->ipykernel->jupyter->-r ../requirements.txt (line 1)) (0.19.2)\n",
      "Requirement already satisfied: pexpect>4.3 in /Users/nicolasog/Development/data-science-with-python-course/.venv/lib/python3.12/site-packages (from ipython>=7.23.1->ipykernel->jupyter->-r ../requirements.txt (line 1)) (4.9.0)\n",
      "Requirement already satisfied: stack_data in /Users/nicolasog/Development/data-science-with-python-course/.venv/lib/python3.12/site-packages (from ipython>=7.23.1->ipykernel->jupyter->-r ../requirements.txt (line 1)) (0.6.3)\n",
      "Requirement already satisfied: attrs>=22.2.0 in /Users/nicolasog/Development/data-science-with-python-course/.venv/lib/python3.12/site-packages (from jsonschema>=4.18.0->jupyterlab-server<3,>=2.27.1->notebook->-r ../requirements.txt (line 2)) (25.3.0)\n",
      "Requirement already satisfied: jsonschema-specifications>=2023.03.6 in /Users/nicolasog/Development/data-science-with-python-course/.venv/lib/python3.12/site-packages (from jsonschema>=4.18.0->jupyterlab-server<3,>=2.27.1->notebook->-r ../requirements.txt (line 2)) (2025.4.1)\n",
      "Requirement already satisfied: referencing>=0.28.4 in /Users/nicolasog/Development/data-science-with-python-course/.venv/lib/python3.12/site-packages (from jsonschema>=4.18.0->jupyterlab-server<3,>=2.27.1->notebook->-r ../requirements.txt (line 2)) (0.36.2)\n",
      "Requirement already satisfied: rpds-py>=0.7.1 in /Users/nicolasog/Development/data-science-with-python-course/.venv/lib/python3.12/site-packages (from jsonschema>=4.18.0->jupyterlab-server<3,>=2.27.1->notebook->-r ../requirements.txt (line 2)) (0.25.1)\n",
      "Requirement already satisfied: platformdirs>=2.5 in /Users/nicolasog/Development/data-science-with-python-course/.venv/lib/python3.12/site-packages (from jupyter-core!=5.0.*,>=4.12->jupyter-server<3,>=2.4.0->notebook->-r ../requirements.txt (line 2)) (4.3.8)\n",
      "Requirement already satisfied: python-json-logger>=2.0.4 in /Users/nicolasog/Development/data-science-with-python-course/.venv/lib/python3.12/site-packages (from jupyter-events>=0.11.0->jupyter-server<3,>=2.4.0->notebook->-r ../requirements.txt (line 2)) (3.3.0)\n",
      "Requirement already satisfied: pyyaml>=5.3 in /Users/nicolasog/Development/data-science-with-python-course/.venv/lib/python3.12/site-packages (from jupyter-events>=0.11.0->jupyter-server<3,>=2.4.0->notebook->-r ../requirements.txt (line 2)) (6.0.2)\n",
      "Requirement already satisfied: rfc3339-validator in /Users/nicolasog/Development/data-science-with-python-course/.venv/lib/python3.12/site-packages (from jupyter-events>=0.11.0->jupyter-server<3,>=2.4.0->notebook->-r ../requirements.txt (line 2)) (0.1.4)\n",
      "Requirement already satisfied: rfc3986-validator>=0.1.1 in /Users/nicolasog/Development/data-science-with-python-course/.venv/lib/python3.12/site-packages (from jupyter-events>=0.11.0->jupyter-server<3,>=2.4.0->notebook->-r ../requirements.txt (line 2)) (0.1.1)\n",
      "Requirement already satisfied: fastjsonschema>=2.15 in /Users/nicolasog/Development/data-science-with-python-course/.venv/lib/python3.12/site-packages (from nbformat>=5.3.0->jupyter-server<3,>=2.4.0->notebook->-r ../requirements.txt (line 2)) (2.21.1)\n",
      "Requirement already satisfied: wcwidth in /Users/nicolasog/Development/data-science-with-python-course/.venv/lib/python3.12/site-packages (from prompt-toolkit>=3.0.30->jupyter-console->jupyter->-r ../requirements.txt (line 1)) (0.2.13)\n",
      "Requirement already satisfied: charset_normalizer<4,>=2 in /Users/nicolasog/Development/data-science-with-python-course/.venv/lib/python3.12/site-packages (from requests>=2.31->jupyterlab-server<3,>=2.27.1->notebook->-r ../requirements.txt (line 2)) (3.4.2)\n",
      "Requirement already satisfied: urllib3<3,>=1.21.1 in /Users/nicolasog/Development/data-science-with-python-course/.venv/lib/python3.12/site-packages (from requests>=2.31->jupyterlab-server<3,>=2.27.1->notebook->-r ../requirements.txt (line 2)) (2.5.0)\n",
      "Requirement already satisfied: ptyprocess in /Users/nicolasog/Development/data-science-with-python-course/.venv/lib/python3.12/site-packages (from terminado>=0.8.3->jupyter-server<3,>=2.4.0->notebook->-r ../requirements.txt (line 2)) (0.7.0)\n",
      "Requirement already satisfied: soupsieve>1.2 in /Users/nicolasog/Development/data-science-with-python-course/.venv/lib/python3.12/site-packages (from beautifulsoup4->nbconvert->jupyter->-r ../requirements.txt (line 1)) (2.7)\n",
      "Requirement already satisfied: parso<0.9.0,>=0.8.4 in /Users/nicolasog/Development/data-science-with-python-course/.venv/lib/python3.12/site-packages (from jedi>=0.16->ipython>=7.23.1->ipykernel->jupyter->-r ../requirements.txt (line 1)) (0.8.4)\n",
      "Requirement already satisfied: fqdn in /Users/nicolasog/Development/data-science-with-python-course/.venv/lib/python3.12/site-packages (from jsonschema[format-nongpl]>=4.18.0->jupyter-events>=0.11.0->jupyter-server<3,>=2.4.0->notebook->-r ../requirements.txt (line 2)) (1.5.1)\n",
      "Requirement already satisfied: isoduration in /Users/nicolasog/Development/data-science-with-python-course/.venv/lib/python3.12/site-packages (from jsonschema[format-nongpl]>=4.18.0->jupyter-events>=0.11.0->jupyter-server<3,>=2.4.0->notebook->-r ../requirements.txt (line 2)) (20.11.0)\n",
      "Requirement already satisfied: jsonpointer>1.13 in /Users/nicolasog/Development/data-science-with-python-course/.venv/lib/python3.12/site-packages (from jsonschema[format-nongpl]>=4.18.0->jupyter-events>=0.11.0->jupyter-server<3,>=2.4.0->notebook->-r ../requirements.txt (line 2)) (3.0.0)\n",
      "Requirement already satisfied: uri-template in /Users/nicolasog/Development/data-science-with-python-course/.venv/lib/python3.12/site-packages (from jsonschema[format-nongpl]>=4.18.0->jupyter-events>=0.11.0->jupyter-server<3,>=2.4.0->notebook->-r ../requirements.txt (line 2)) (1.3.0)\n",
      "Requirement already satisfied: webcolors>=24.6.0 in /Users/nicolasog/Development/data-science-with-python-course/.venv/lib/python3.12/site-packages (from jsonschema[format-nongpl]>=4.18.0->jupyter-events>=0.11.0->jupyter-server<3,>=2.4.0->notebook->-r ../requirements.txt (line 2)) (24.11.1)\n",
      "Requirement already satisfied: cffi>=1.0.1 in /Users/nicolasog/Development/data-science-with-python-course/.venv/lib/python3.12/site-packages (from argon2-cffi-bindings->argon2-cffi>=21.1->jupyter-server<3,>=2.4.0->notebook->-r ../requirements.txt (line 2)) (1.17.1)\n",
      "Requirement already satisfied: executing>=1.2.0 in /Users/nicolasog/Development/data-science-with-python-course/.venv/lib/python3.12/site-packages (from stack_data->ipython>=7.23.1->ipykernel->jupyter->-r ../requirements.txt (line 1)) (2.2.0)\n",
      "Requirement already satisfied: asttokens>=2.1.0 in /Users/nicolasog/Development/data-science-with-python-course/.venv/lib/python3.12/site-packages (from stack_data->ipython>=7.23.1->ipykernel->jupyter->-r ../requirements.txt (line 1)) (3.0.0)\n",
      "Requirement already satisfied: pure-eval in /Users/nicolasog/Development/data-science-with-python-course/.venv/lib/python3.12/site-packages (from stack_data->ipython>=7.23.1->ipykernel->jupyter->-r ../requirements.txt (line 1)) (0.2.3)\n",
      "Requirement already satisfied: pycparser in /Users/nicolasog/Development/data-science-with-python-course/.venv/lib/python3.12/site-packages (from cffi>=1.0.1->argon2-cffi-bindings->argon2-cffi>=21.1->jupyter-server<3,>=2.4.0->notebook->-r ../requirements.txt (line 2)) (2.22)\n",
      "Requirement already satisfied: arrow>=0.15.0 in /Users/nicolasog/Development/data-science-with-python-course/.venv/lib/python3.12/site-packages (from isoduration->jsonschema[format-nongpl]>=4.18.0->jupyter-events>=0.11.0->jupyter-server<3,>=2.4.0->notebook->-r ../requirements.txt (line 2)) (1.3.0)\n",
      "Requirement already satisfied: types-python-dateutil>=2.8.10 in /Users/nicolasog/Development/data-science-with-python-course/.venv/lib/python3.12/site-packages (from arrow>=0.15.0->isoduration->jsonschema[format-nongpl]>=4.18.0->jupyter-events>=0.11.0->jupyter-server<3,>=2.4.0->notebook->-r ../requirements.txt (line 2)) (2.9.0.20250516)\n",
      "\n",
      "\u001b[1m[\u001b[0m\u001b[34;49mnotice\u001b[0m\u001b[1;39;49m]\u001b[0m\u001b[39;49m A new release of pip is available: \u001b[0m\u001b[31;49m25.0.1\u001b[0m\u001b[39;49m -> \u001b[0m\u001b[32;49m25.2\u001b[0m\n",
      "\u001b[1m[\u001b[0m\u001b[34;49mnotice\u001b[0m\u001b[1;39;49m]\u001b[0m\u001b[39;49m To update, run: \u001b[0m\u001b[32;49mpip install --upgrade pip\u001b[0m\n",
      "Note: you may need to restart the kernel to use updated packages.\n"
     ]
    }
   ],
   "source": [
    "%pip install -r ../requirements.txt\n",
    "\n",
    "import pandas as pd\n",
    "import numpy as np"
   ]
  },
  {
   "cell_type": "markdown",
   "id": "eca969a1",
   "metadata": {},
   "source": [
    "## Data cleansing"
   ]
  },
  {
   "cell_type": "markdown",
   "id": "69c7801c",
   "metadata": {},
   "source": [
    "### 1. Load dataset\n"
   ]
  },
  {
   "cell_type": "code",
   "execution_count": 2,
   "id": "416f73b7",
   "metadata": {},
   "outputs": [
    {
     "name": "stdout",
     "output_type": "stream",
     "text": [
      "          Fecha      ID          NXXX  Cantidad  Precio_prod\n",
      "0      2017/1/1  400005  554170000001         4         9808\n",
      "1  2017!/{1-/.1  400002  554170000001         3         1355\n",
      "2      2017/1/1  400001  554170000001         4         8756\n",
      "3      2017/1/1  400008  554170000001         1         9004\n",
      "4      2017/1/1  400001  554170000002         1         6736\n",
      "Fecha          object\n",
      "ID             object\n",
      "NXXX           object\n",
      "Cantidad        int64\n",
      "Precio_prod     int64\n",
      "dtype: object\n"
     ]
    }
   ],
   "source": [
    "# 1. Load the dataset\n",
    "input_file = '../data/detalle_boletas.csv'\n",
    "\n",
    "detalle_boletas = pd.read_csv(input_file,sep=',', encoding='utf-8')\n",
    "# Display the first 5 rows of the dataset to check if it was loaded correctly\n",
    "print(detalle_boletas.head())\n",
    "\n",
    "print(detalle_boletas.dtypes)"
   ]
  },
  {
   "cell_type": "markdown",
   "id": "d53280f2",
   "metadata": {},
   "source": [
    "### 2. Modify dataset\n",
    "\n",
    "Before to begin the analysis, it is necesary to modify the dataset ```detalle_boletas```. Particularly:\n",
    "\n",
    "a. Delete the column ```Precio_prod``` because the prices are incorrect.\n",
    "\n",
    "b. Create a column ```Pais_Venta```, because the company has intention to get into the international market in the near future. For now all the values of this column should be \"Chile\".\n",
    "\n",
    "c. Change column name ```NXXX``` to ```Num Boleta``` to make it more descriptive.\n",
    "\n",
    "You can notice, by the arrangement of the data in the dataset, when a receipt has more than 1 product then it could be several rows refering to that receipt.\n",
    "\n",
    "![alt text](../images/receipts.png)\n",
    "\n",
    "In this case:\n",
    "\n",
    "- The receipt 554170000002 has two products, with ```ID``` 400009 and ```ID``` 400007. 3 and 2 units of each product were sold, respectively. It was issued on January 1, 2016.\n",
    "- The receipt 554170000003 has one product, with ```ID``` 400005. 2 units of this product were sold. It was issued on January 2, 2016.\n",
    "- The receipt 554170000004 has three products, with ```ID``` 400005, ```ID``` 400001, and ```ID``` 400002. 2 units of each product were sold. It was issued on January 2, 2016.\n",
    "\n",
    "\n",
    "Some important considerations:\n",
    "\n",
    "- One or more than one receipt could be issued by day.\n",
    "- A receipt will never have 2 different issuance date.\n",
    "- It will never exist 2 row of the same receipt and same product\n"
   ]
  },
  {
   "cell_type": "code",
   "execution_count": 3,
   "id": "fe695a78",
   "metadata": {},
   "outputs": [
    {
     "name": "stdout",
     "output_type": "stream",
     "text": [
      "          Fecha      ID          NXXX  Cantidad\n",
      "0      2017/1/1  400005  554170000001         4\n",
      "1  2017!/{1-/.1  400002  554170000001         3\n",
      "2      2017/1/1  400001  554170000001         4\n",
      "3      2017/1/1  400008  554170000001         1\n",
      "4      2017/1/1  400001  554170000002         1\n",
      "          Fecha      ID          NXXX  Cantidad Pais_Venta\n",
      "0      2017/1/1  400005  554170000001         4      Chile\n",
      "1  2017!/{1-/.1  400002  554170000001         3      Chile\n",
      "2      2017/1/1  400001  554170000001         4      Chile\n",
      "3      2017/1/1  400008  554170000001         1      Chile\n",
      "4      2017/1/1  400001  554170000002         1      Chile\n",
      "          Fecha      ID    Num Boleta  Cantidad Pais_Venta\n",
      "0      2017/1/1  400005  554170000001         4      Chile\n",
      "1  2017!/{1-/.1  400002  554170000001         3      Chile\n",
      "2      2017/1/1  400001  554170000001         4      Chile\n",
      "3      2017/1/1  400008  554170000001         1      Chile\n",
      "4      2017/1/1  400001  554170000002         1      Chile\n"
     ]
    }
   ],
   "source": [
    "detalle_boletas = detalle_boletas.drop(columns=['Precio_prod'])\n",
    "print(detalle_boletas.head())\n",
    "\n",
    "detalle_boletas['Pais_Venta'] = 'Chile'\n",
    "print(detalle_boletas.head())\n",
    "\n",
    "detalle_boletas = detalle_boletas.rename(columns={'NXXX': 'Num Boleta'})\n",
    "print(detalle_boletas.head())"
   ]
  },
  {
   "cell_type": "markdown",
   "id": "100ae721",
   "metadata": {},
   "source": [
    "### 3. Cleansing\n",
    "\n",
    "\n",
    "The previous file ```detalle_boleta.csv``` was dirty and it should be cleaned\n",
    "\n",
    "a. There are some products with ID \"4XXXXXX\" y Num Boleta \"55417XXXXXXX\". Delete any row in the dataset that contains these values, becuase they were not correctly generated by the system and it should not be considered in the analysis.\n",
    "\n",
    "b. The column Fecha has extra characters. Clean the column in order to obtain the format YYYY/MM/DD (without extra characters). Particularly, identify which extra characters exist in the column besides \"/\" or numbers and remove them."
   ]
  },
  {
   "cell_type": "code",
   "execution_count": 4,
   "id": "52e529fe",
   "metadata": {},
   "outputs": [
    {
     "name": "stdout",
     "output_type": "stream",
     "text": [
      "Rows to be removed based on filter:\n",
      "              Fecha      ID    Num Boleta  Cantidad Pais_Venta\n",
      "7          2017/1/2  4XXXXX  55417XXXXXXX         2      Chile\n",
      "8      2017!/{1-/.2  400009  55417XXXXXXX         5      Chile\n",
      "9          2017/1/2  400010  55417XXXXXXX         1      Chile\n",
      "12         2017/1/3  4XXXXX  554170000004         4      Chile\n",
      "16        2017_/1/3  400001  55417XXXXXXX         4      Chile\n",
      "...             ...     ...           ...       ...        ...\n",
      "4404  2018!/{8-/.29  400003  55417XXXXXXX         2      Chile\n",
      "4409  2018!/{8-/.29  4XXXXX  554170001746         3      Chile\n",
      "4411      2018/8/30  4XXXXX  554170001747         3      Chile\n",
      "4417      2018/8/30  4XXXXX  554170001748         1      Chile\n",
      "4419     2018_/8/30  4XXXXX  554170001749         4      Chile\n",
      "\n",
      "[651 rows x 5 columns]\n",
      "          Fecha      ID    Num Boleta  Cantidad Pais_Venta\n",
      "0      2017/1/1  400005  554170000001         4      Chile\n",
      "1  2017!/{1-/.1  400002  554170000001         3      Chile\n",
      "2      2017/1/1  400001  554170000001         4      Chile\n",
      "3      2017/1/1  400008  554170000001         1      Chile\n",
      "4      2017/1/1  400001  554170000002         1      Chile\n",
      "      Fecha      ID    Num Boleta  Cantidad Pais_Venta\n",
      "0  2017/1/1  400005  554170000001         4      Chile\n",
      "1  2017/1/1  400002  554170000001         3      Chile\n",
      "2  2017/1/1  400001  554170000001         4      Chile\n",
      "3  2017/1/1  400008  554170000001         1      Chile\n",
      "4  2017/1/1  400001  554170000002         1      Chile\n"
     ]
    }
   ],
   "source": [
    "filter = (detalle_boletas['ID'].str.contains('4XXXXX')) | (detalle_boletas['Num Boleta'].str.contains('55417XXXXXXX'))\n",
    "print(\"Rows to be removed based on filter:\")\n",
    "print(detalle_boletas[filter])\n",
    "\n",
    "\n",
    "detalle_boletas = detalle_boletas.drop(detalle_boletas[filter].index)\n",
    "print(detalle_boletas.head())\n",
    "\n",
    "\n",
    "# Identified extra characters in the 'Fecha' column\n",
    "# The characters to be removed are: '{', '.', '_', '-', '!'\n",
    "# Replaced with empty string and recognized with regex\n",
    "detalle_boletas['Fecha'] = detalle_boletas['Fecha'].str.replace(r'[{._\\-!]', '', regex=True)\n",
    "print(detalle_boletas.head())\n"
   ]
  },
  {
   "cell_type": "markdown",
   "id": "b5c4a123",
   "metadata": {},
   "source": [
    "## Data extraction"
   ]
  },
  {
   "cell_type": "markdown",
   "id": "6844cc1d",
   "metadata": {},
   "source": [
    "### 4. Descriptive statistics Cantidad\n",
    "\n",
    "Calculate the descriptive statistics of the column Cantidad for each existing product and print it to the console. The descriptive statistics should include mean, standard deviation, minimum and maximum values. See image below.\n",
    "\n",
    "\n",
    "![Example descriptive statistic](../images/descriptive_statistic_example.png)"
   ]
  },
  {
   "cell_type": "code",
   "execution_count": 16,
   "id": "7bef9ec4",
   "metadata": {},
   "outputs": [
    {
     "name": "stdout",
     "output_type": "stream",
     "text": [
      "       Cantidad                         \n",
      "           amax amin      mean       std\n",
      "ID                                      \n",
      "400001        5    1  3.005435  1.431439\n",
      "400002        5    1  2.953125  1.420804\n",
      "400003        5    1  2.955112  1.409957\n",
      "400004        5    1  3.016484  1.429617\n",
      "400005        5    1  3.036554  1.430308\n",
      "400006        5    1  3.087432  1.368133\n",
      "400007        5    1  3.008523  1.466603\n",
      "400008        5    1  3.040921  1.440571\n",
      "400009        5    1  3.107330  1.390443\n",
      "400010        5    1  2.916667  1.430125\n"
     ]
    },
    {
     "name": "stderr",
     "output_type": "stream",
     "text": [
      "/var/folders/y4/6837m289589_j2ngnfmktk5r0000gn/T/ipykernel_99309/1649877467.py:1: FutureWarning: The provided callable <function mean at 0x109844ea0> is currently using SeriesGroupBy.mean. In a future version of pandas, the provided callable will be used directly. To keep current behavior pass the string \"mean\" instead.\n",
      "  pivot_table_boletas = detalle_boletas.pivot_table(index=['ID'], values=['Cantidad'], aggfunc={np.amax, np.amin, np.mean, np.std})\n",
      "/var/folders/y4/6837m289589_j2ngnfmktk5r0000gn/T/ipykernel_99309/1649877467.py:1: FutureWarning: The provided callable <function std at 0x109844fe0> is currently using SeriesGroupBy.std. In a future version of pandas, the provided callable will be used directly. To keep current behavior pass the string \"std\" instead.\n",
      "  pivot_table_boletas = detalle_boletas.pivot_table(index=['ID'], values=['Cantidad'], aggfunc={np.amax, np.amin, np.mean, np.std})\n"
     ]
    }
   ],
   "source": [
    "pivot_table_boletas = detalle_boletas.pivot_table(index=['ID'], values=['Cantidad'], aggfunc={np.amax, np.amin, np.mean, np.std})\n",
    "print(pivot_table_boletas.head(10))"
   ]
  },
  {
   "cell_type": "markdown",
   "id": "bb277d0a",
   "metadata": {},
   "source": [
    "### 5. Data extraction: Separate Fecha column\n",
    "\n",
    "Now that the information is clean on detalle_boletas, generate column ```Anho``` (with the year of the column ```Fecha```) and a column ```Mes``` (with the month of the column ```Fecha```) and a column ```Dia``` (with the day of the column ```Fecha```). This columns should be added to the dataframe detalle_boletas. Then, delete the column ```Fecha```.\n"
   ]
  },
  {
   "cell_type": "code",
   "execution_count": 6,
   "id": "efb7bd73",
   "metadata": {},
   "outputs": [
    {
     "name": "stdout",
     "output_type": "stream",
     "text": [
      "      0  1  2\n",
      "0  2017  1  1\n",
      "1  2017  1  1\n",
      "2  2017  1  1\n",
      "3  2017  1  1\n",
      "4  2017  1  1\n",
      "      Fecha      ID    Num Boleta  Cantidad Pais_Venta  Anho Mes Dia\n",
      "0  2017/1/1  400005  554170000001         4      Chile  2017   1   1\n",
      "1  2017/1/1  400002  554170000001         3      Chile  2017   1   1\n",
      "2  2017/1/1  400001  554170000001         4      Chile  2017   1   1\n",
      "3  2017/1/1  400008  554170000001         1      Chile  2017   1   1\n",
      "4  2017/1/1  400001  554170000002         1      Chile  2017   1   1\n",
      "       ID    Num Boleta  Cantidad Pais_Venta  Anho Mes Dia\n",
      "0  400005  554170000001         4      Chile  2017   1   1\n",
      "1  400002  554170000001         3      Chile  2017   1   1\n",
      "2  400001  554170000001         4      Chile  2017   1   1\n",
      "3  400008  554170000001         1      Chile  2017   1   1\n",
      "4  400001  554170000002         1      Chile  2017   1   1\n"
     ]
    }
   ],
   "source": [
    "separated_date = detalle_boletas['Fecha'].str.split('/', expand=True)\n",
    "print(separated_date.head())\n",
    "\n",
    "\n",
    "separated_date.columns = ['Anho', 'Mes', 'Dia']\n",
    "detalle_boletas = detalle_boletas.join(separated_date)\n",
    "print(detalle_boletas.head())\n",
    "\n",
    "detalle_boletas= detalle_boletas.drop(columns=['Fecha'])\n",
    "print(detalle_boletas.head())"
   ]
  },
  {
   "cell_type": "markdown",
   "id": "0433aedf",
   "metadata": {},
   "source": [
    "## Data integration"
   ]
  },
  {
   "cell_type": "markdown",
   "id": "b0491d07",
   "metadata": {},
   "source": [
    "### 6. Load Products\n",
    "\n",
    "Load the file ```Lista productos.csv``` as a data frame and name it ```lista_productos```.\n",
    "\n",
    "This file contains the detail of the 10 products available in stock.\n",
    "\n",
    "![alt text](../images/products.png)\n",
    "\n",
    "Where:\n",
    "- ```ID```: Identifier of each product\n",
    "- ```Nombre```: Product's name\n",
    "- ```Descrip```: Product's description\n",
    "- ```Precio Unitario```: Product's unit price"
   ]
  },
  {
   "cell_type": "code",
   "execution_count": 9,
   "id": "da1f0211",
   "metadata": {},
   "outputs": [
    {
     "name": "stdout",
     "output_type": "stream",
     "text": [
      "       ID                 Nombre  \\\n",
      "0  400001             Alerce A4C   \n",
      "1  400002             Alerce A4O   \n",
      "2  400003          Alerce A4C XL   \n",
      "3  400004          Alerce A4O XL   \n",
      "4  400005           Alerce Kraft   \n",
      "5  400006        Alerce Kraft XL   \n",
      "6  400007  Alerce PreCuad Oficio   \n",
      "7  400008   Alerce PreCuad Carta   \n",
      "8  400009  Alerce PreComp Oficio   \n",
      "9  400010   Alerce PreComp Carta   \n",
      "\n",
      "                                         Descripción  Precio Unitario  \n",
      "0                           Resma A4 Carta 500 hojas             2250  \n",
      "1                          Resma A4 Oficio 500 hojas             2500  \n",
      "2                          Resma A4 Carta 1000 hojas             4200  \n",
      "3                         Resma A4 Oficio 1000 hojas             4700  \n",
      "4                         Pliego papel kraft 90x60cm              500  \n",
      "5                        Pliego papel kraft 150x90cm              750  \n",
      "6  Block prepicado, tamaño oficio, cuadriculado, ...             1300  \n",
      "7  Block prepicado, tamaño carta, cuadriculado, 8...             1100  \n",
      "8  Block prepicado, tamaño oficio, composición, 8...             1200  \n",
      "9  Block prepicado, tamaño carta, composición, 80...             1000  \n",
      "ID                  int64\n",
      "Nombre             object\n",
      "Descripción        object\n",
      "Precio Unitario     int64\n",
      "dtype: object\n"
     ]
    }
   ],
   "source": [
    "input_file_productos = '../data/Lista productos.csv'\n",
    "\n",
    "lista_productos = pd.read_csv(input_file_productos, sep=',', encoding='utf-8')\n",
    "print(lista_productos.head(10))\n",
    "\n",
    "print(lista_productos.dtypes)\n"
   ]
  },
  {
   "cell_type": "markdown",
   "id": "6bd3506a",
   "metadata": {},
   "source": [
    "### 7. Merge dataframes\n",
    "\n",
    "Join the DataFrame ```lista_productos``` with the DataFrame ```detalle_boletas```, based on the information in the ```ID``` column.\n",
    "\n",
    "The resulting DataFrame from this join must contain the same information as the DataFrame ```detalle_boletas```, but now each row must also include the product name, the description, and the unit price.\n",
    "\n",
    "You must call this DataFrame ```detalle_boletas2```. Print this DataFrame to the console.\n",
    "\n",
    "Pay attention to the data type, because in order to perform this join, the column used to match values in both DataFrames must have the same type."
   ]
  },
  {
   "cell_type": "code",
   "execution_count": 11,
   "id": "5049223f",
   "metadata": {},
   "outputs": [
    {
     "name": "stdout",
     "output_type": "stream",
     "text": [
      "        ID    Num Boleta  Cantidad Pais_Venta  Anho Mes Dia  \\\n",
      "0   400005  554170000001         4      Chile  2017   1   1   \n",
      "1   400002  554170000001         3      Chile  2017   1   1   \n",
      "2   400001  554170000001         4      Chile  2017   1   1   \n",
      "3   400008  554170000001         1      Chile  2017   1   1   \n",
      "4   400001  554170000002         1      Chile  2017   1   1   \n",
      "5   400002  554170000002         5      Chile  2017   1   1   \n",
      "6   400005  554170000002         2      Chile  2017   1   1   \n",
      "7   400003  554170000004         4      Chile  2017   1   3   \n",
      "8   400009  554170000004         5      Chile  2017   1   3   \n",
      "9   400006  554170000005         3      Chile  2017   1   3   \n",
      "10  400003  554170000005         3      Chile  2017   1   3   \n",
      "11  400001  554170000005         1      Chile  2017   1   3   \n",
      "12  400007  554170000007         1      Chile  2017   1   4   \n",
      "13  400007  554170000008         1      Chile  2017   1   4   \n",
      "14  400002  554170000008         3      Chile  2017   1   4   \n",
      "15  400003  554170000010         3      Chile  2017   1   4   \n",
      "16  400007  554170000010         5      Chile  2017   1   4   \n",
      "17  400005  554170000010         5      Chile  2017   1   4   \n",
      "18  400010  554170000010         2      Chile  2017   1   4   \n",
      "19  400009  554170000011         3      Chile  2017   1   4   \n",
      "\n",
      "                   Nombre                                        Descripción  \\\n",
      "0            Alerce Kraft                         Pliego papel kraft 90x60cm   \n",
      "1              Alerce A4O                          Resma A4 Oficio 500 hojas   \n",
      "2              Alerce A4C                           Resma A4 Carta 500 hojas   \n",
      "3    Alerce PreCuad Carta  Block prepicado, tamaño carta, cuadriculado, 8...   \n",
      "4              Alerce A4C                           Resma A4 Carta 500 hojas   \n",
      "5              Alerce A4O                          Resma A4 Oficio 500 hojas   \n",
      "6            Alerce Kraft                         Pliego papel kraft 90x60cm   \n",
      "7           Alerce A4C XL                          Resma A4 Carta 1000 hojas   \n",
      "8   Alerce PreComp Oficio  Block prepicado, tamaño oficio, composición, 8...   \n",
      "9         Alerce Kraft XL                        Pliego papel kraft 150x90cm   \n",
      "10          Alerce A4C XL                          Resma A4 Carta 1000 hojas   \n",
      "11             Alerce A4C                           Resma A4 Carta 500 hojas   \n",
      "12  Alerce PreCuad Oficio  Block prepicado, tamaño oficio, cuadriculado, ...   \n",
      "13  Alerce PreCuad Oficio  Block prepicado, tamaño oficio, cuadriculado, ...   \n",
      "14             Alerce A4O                          Resma A4 Oficio 500 hojas   \n",
      "15          Alerce A4C XL                          Resma A4 Carta 1000 hojas   \n",
      "16  Alerce PreCuad Oficio  Block prepicado, tamaño oficio, cuadriculado, ...   \n",
      "17           Alerce Kraft                         Pliego papel kraft 90x60cm   \n",
      "18   Alerce PreComp Carta  Block prepicado, tamaño carta, composición, 80...   \n",
      "19  Alerce PreComp Oficio  Block prepicado, tamaño oficio, composición, 8...   \n",
      "\n",
      "    Precio Unitario  \n",
      "0               500  \n",
      "1              2500  \n",
      "2              2250  \n",
      "3              1100  \n",
      "4              2250  \n",
      "5              2500  \n",
      "6               500  \n",
      "7              4200  \n",
      "8              1200  \n",
      "9               750  \n",
      "10             4200  \n",
      "11             2250  \n",
      "12             1300  \n",
      "13             1300  \n",
      "14             2500  \n",
      "15             4200  \n",
      "16             1300  \n",
      "17              500  \n",
      "18             1000  \n",
      "19             1200  \n"
     ]
    }
   ],
   "source": [
    "lista_productos['ID'] = lista_productos['ID'].astype(str)\n",
    "\n",
    "detalle_boletas2 = detalle_boletas.merge(lista_productos, on='ID', how='left')\n",
    "print(detalle_boletas2.head(20))"
   ]
  },
  {
   "cell_type": "markdown",
   "id": "3ae8b891",
   "metadata": {},
   "source": [
    "### 8. Total Revenue\n",
    "\n",
    "Calculate how much revenue each receipt (boleta) generated from the sale of products.\n",
    "To do this, add a new column named ```Ingreso total``` to the DataFrame ```detalle_boletas2```.\n",
    "This column must contain the values resulting from multiplying the ```Precio Unitario``` column by the ```Cantidad ```column.\n",
    "Print the DataFrame ```detalle_boletas2``` with this new column to the console."
   ]
  },
  {
   "cell_type": "code",
   "execution_count": 14,
   "id": "d837a85f",
   "metadata": {},
   "outputs": [
    {
     "name": "stdout",
     "output_type": "stream",
     "text": [
      "       ID    Num Boleta  Cantidad Pais_Venta  Anho Mes Dia  \\\n",
      "0  400005  554170000001         4      Chile  2017   1   1   \n",
      "1  400002  554170000001         3      Chile  2017   1   1   \n",
      "2  400001  554170000001         4      Chile  2017   1   1   \n",
      "3  400008  554170000001         1      Chile  2017   1   1   \n",
      "4  400001  554170000002         1      Chile  2017   1   1   \n",
      "\n",
      "                 Nombre                                        Descripción  \\\n",
      "0          Alerce Kraft                         Pliego papel kraft 90x60cm   \n",
      "1            Alerce A4O                          Resma A4 Oficio 500 hojas   \n",
      "2            Alerce A4C                           Resma A4 Carta 500 hojas   \n",
      "3  Alerce PreCuad Carta  Block prepicado, tamaño carta, cuadriculado, 8...   \n",
      "4            Alerce A4C                           Resma A4 Carta 500 hojas   \n",
      "\n",
      "   Precio Unitario  Ingreso total  \n",
      "0              500           2000  \n",
      "1             2500           7500  \n",
      "2             2250           9000  \n",
      "3             1100           1100  \n",
      "4             2250           2250  \n"
     ]
    }
   ],
   "source": [
    "ingreso_total = lambda x: x['Cantidad'] * x['Precio Unitario']\n",
    "\n",
    "detalle_boletas2['Ingreso total'] = ingreso_total(detalle_boletas2)\n",
    "print(detalle_boletas2.head())"
   ]
  },
  {
   "cell_type": "markdown",
   "id": "03a20db5",
   "metadata": {},
   "source": [
    "### 9. Descriptive statistic Total Revenue\n",
    "\n",
    "Finally, calculate descriptive statistics of the column ```Ingreso total``` for each of the products that exist.\n",
    "The descriptive statistics you must calculate are: mean (media), standard deviation (desviación estándar), minimum (mínimo), and maximum (máximo).\n",
    "Your result should look like this:\n",
    "\n",
    "![Descriptive statistics example 2](../images/descriptive_statistic_example_2.png)"
   ]
  },
  {
   "cell_type": "code",
   "execution_count": 15,
   "id": "74b6bb34",
   "metadata": {},
   "outputs": [
    {
     "name": "stdout",
     "output_type": "stream",
     "text": [
      "       Ingreso total                                          \n",
      "                amax  amin          mean          std      sum\n",
      "ID                                                            \n",
      "400001         11250  2250   6762.228261  3220.737038  2488500\n",
      "400002         12500  2500   7382.812500  3552.010633  2835000\n",
      "400003         21000  4200  12411.471322  5921.821348  4977000\n",
      "400004         23500  4700  14177.472527  6719.199758  5160600\n",
      "400005          2500   500   1518.276762   715.153963   581500\n",
      "400006          3750   750   2315.573770  1026.099450   847500\n",
      "400007          6500  1300   3911.079545  1906.583877  1376700\n",
      "400008          5500  1100   3345.012788  1584.627899  1307900\n",
      "400009          6000  1200   3728.795812  1668.531696  1424400\n",
      "400010          5000  1000   2916.666667  1430.124731  1120000\n"
     ]
    },
    {
     "name": "stderr",
     "output_type": "stream",
     "text": [
      "/var/folders/y4/6837m289589_j2ngnfmktk5r0000gn/T/ipykernel_99309/1948404911.py:1: FutureWarning: The provided callable <function sum at 0x10982ba60> is currently using SeriesGroupBy.sum. In a future version of pandas, the provided callable will be used directly. To keep current behavior pass the string \"sum\" instead.\n",
      "  descriptive_statistic = detalle_boletas2.pivot_table(index=['ID'], values=['Ingreso total'], aggfunc={np.amax, np.amin, np.mean, np.std, np.sum})\n",
      "/var/folders/y4/6837m289589_j2ngnfmktk5r0000gn/T/ipykernel_99309/1948404911.py:1: FutureWarning: The provided callable <function mean at 0x109844ea0> is currently using SeriesGroupBy.mean. In a future version of pandas, the provided callable will be used directly. To keep current behavior pass the string \"mean\" instead.\n",
      "  descriptive_statistic = detalle_boletas2.pivot_table(index=['ID'], values=['Ingreso total'], aggfunc={np.amax, np.amin, np.mean, np.std, np.sum})\n",
      "/var/folders/y4/6837m289589_j2ngnfmktk5r0000gn/T/ipykernel_99309/1948404911.py:1: FutureWarning: The provided callable <function std at 0x109844fe0> is currently using SeriesGroupBy.std. In a future version of pandas, the provided callable will be used directly. To keep current behavior pass the string \"std\" instead.\n",
      "  descriptive_statistic = detalle_boletas2.pivot_table(index=['ID'], values=['Ingreso total'], aggfunc={np.amax, np.amin, np.mean, np.std, np.sum})\n"
     ]
    }
   ],
   "source": [
    "descriptive_statistic = detalle_boletas2.pivot_table(index=['ID'], values=['Ingreso total'], aggfunc={np.amax, np.amin, np.mean, np.std, np.sum})\n",
    "print(descriptive_statistic.head(10))"
   ]
  }
 ],
 "metadata": {
  "kernelspec": {
   "display_name": ".venv",
   "language": "python",
   "name": "python3"
  },
  "language_info": {
   "codemirror_mode": {
    "name": "ipython",
    "version": 3
   },
   "file_extension": ".py",
   "mimetype": "text/x-python",
   "name": "python",
   "nbconvert_exporter": "python",
   "pygments_lexer": "ipython3",
   "version": "3.12.11"
  }
 },
 "nbformat": 4,
 "nbformat_minor": 5
}
