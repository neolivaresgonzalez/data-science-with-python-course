{
 "cells": [
  {
   "cell_type": "markdown",
   "id": "4cdf75f5-4a83-4411-b2d7-8d396e47496a",
   "metadata": {},
   "source": [
    "# Course for Python data processing\n",
    "\n"
   ]
  },
  {
   "cell_type": "markdown",
   "id": "8901eb49-4eb0-4a6c-bb29-b907872cfe1c",
   "metadata": {},
   "source": [
    "## Module 1: Introduction to Python Programming\n",
    "\n",
    "- **Data**: Fact or statistic value from real world measurements\n",
    "- **Information**: Set of data with measurement units that deliver context about real world phenomenon or facts.\n",
    "- **Variable**: Programming language resource that could be used to store data. Normally you could give it a representative name and a value. The value could be in the form of numbers, text or even complex data structures.\n",
    "- **Operators**: Programming language resource that represents, most of them, mathematical operations that the computer should process and deliver a result, if it is programmed to do so.\n",
    "- **Input**: Programming language resource that could be used to ask for user's input during the excecution of programs."
   ]
  },
  {
   "cell_type": "markdown",
   "id": "f4aaf866",
   "metadata": {},
   "source": [
    "### Difference between Data and information"
   ]
  },
  {
   "cell_type": "markdown",
   "id": "78a3e270",
   "metadata": {},
   "source": [
    "#### This is DATA\n",
    "\n",
    "This are not related, fully without context statistic values.\n",
    "\n",
    "- If we say numberA=10. What does 10 stands for? What daimension of the real world do we wish to measure?\n",
    "- If we say stringB=\"Some text\". In what context this text is valuable?"
   ]
  },
  {
   "cell_type": "code",
   "execution_count": null,
   "id": "a83c7e7a-63f9-42a8-80a2-a127b0e7592d",
   "metadata": {},
   "outputs": [
    {
     "name": "stdout",
     "output_type": "stream",
     "text": [
      "10\n",
      "Some text\n",
      "0.1111\n"
     ]
    }
   ],
   "source": [
    "numberA=10\n",
    "stringB=\"Some text\"\n",
    "decimalNumberC=0.1111\n",
    "print(numberA)\n",
    "print(stringB)\n",
    "print(decimalNumberC)\n",
    "\n"
   ]
  },
  {
   "cell_type": "markdown",
   "id": "ebda1137",
   "metadata": {},
   "source": [
    "#### This is INFORMATION\n",
    "\n",
    "This is real world data with context, it represents information about a topic from the real world.\n",
    "\n",
    "According to Fédération Internationale de Football Association (FIFA) there are standard dimensions for football soccer fields.\n",
    "In that context, when we describe variables like \"SoccerFieldLength\" or \"SoccerFieldWidth\" we are describing numbers with measure units like meters and these numbers are giving us information about an specific soccer field in the real world."
   ]
  },
  {
   "cell_type": "code",
   "execution_count": null,
   "id": "1171efb7",
   "metadata": {},
   "outputs": [
    {
     "name": "stdout",
     "output_type": "stream",
     "text": [
      "The soccer field length is: 105\n",
      "The soccer field width is: 68\n"
     ]
    }
   ],
   "source": [
    "# Soccer field dimensions in meters\n",
    "# According to FIFA, the standard dimensions for a soccer field are:\n",
    "# Length: 100 to 110 meters\n",
    "# Width: 64 to 75 meters\n",
    "# For this example, we will use the most common dimensions:\n",
    "SoccerFieldName=\"Santiago Bernabéu Stadium\"\n",
    "SoccerFieldLength=105\n",
    "SoccerFieldWidth=68\n",
    "print(\"The soccer field length is: {0}\".format(SoccerFieldLength))\n",
    "print(\"The soccer field width is: {0}\".format(SoccerFieldWidth))"
   ]
  },
  {
   "cell_type": "markdown",
   "id": "e27762e8",
   "metadata": {},
   "source": [
    "### Operators"
   ]
  },
  {
   "cell_type": "markdown",
   "id": "bb4023e6",
   "metadata": {},
   "source": [
    "#### Sum numbers"
   ]
  },
  {
   "cell_type": "code",
   "execution_count": null,
   "id": "ba914ec8",
   "metadata": {},
   "outputs": [],
   "source": [
    "# Sum numbers\n",
    "numberVariable1 = 10\n",
    "numberVariable2 = 20\n",
    "sumNumbers = numberVariable1 + numberVariable2\n",
    "print(sumNumbers)"
   ]
  },
  {
   "cell_type": "markdown",
   "id": "43a890c5",
   "metadata": {},
   "source": [
    "#### AugmentedAssignment"
   ]
  },
  {
   "cell_type": "code",
   "execution_count": 6,
   "id": "fe76b6fc",
   "metadata": {},
   "outputs": [
    {
     "name": "stdout",
     "output_type": "stream",
     "text": [
      "15\n"
     ]
    }
   ],
   "source": [
    "AugmentedAssignment = 10\n",
    "AugmentedAssignment += 5\n",
    "print(AugmentedAssignment)"
   ]
  },
  {
   "cell_type": "markdown",
   "id": "4147f9e6",
   "metadata": {},
   "source": [
    "### Concatenate strings Operations"
   ]
  },
  {
   "cell_type": "code",
   "execution_count": 3,
   "id": "29871ec0",
   "metadata": {},
   "outputs": [
    {
     "name": "stdout",
     "output_type": "stream",
     "text": [
      "The value of numberA is: 10\n",
      "The value of numberA is: 10\n",
      "The value of numberA is: 10\n",
      "The value of numberA is: 10\n",
      "The value of numberA is: 10\n",
      "The value of numberA is: 10\n",
      "The value of numberA is: 10, stringB is: Some text, decimalNumberC is: 0.1111\n",
      "The value of numberA is: 10, stringB is: Some text, decimalNumberC is: 0.1111\n"
     ]
    }
   ],
   "source": [
    "# Concatenating variables with strings\n",
    "print(\"The value of numberA is: \" + str(numberA))\n",
    "\n",
    "# Concatenating variables with strings using f-strings\n",
    "print(f\"The value of numberA is: {numberA}\")\n",
    "\n",
    "# Concatenating variables with strings using format method\n",
    "print(\"The value of numberA is: {}\".format(numberA))\n",
    "\n",
    "# Concatenating variables with strings using % operator\n",
    "print(\"The value of numberA is: %d\" % numberA)\n",
    "\n",
    "# Concatenating variables with strings using string interpolation\n",
    "print(\"The value of numberA is: {0}\".format(numberA))\n",
    "\n",
    "# Concatenating variables with strings using join method\n",
    "print(\"The value of numberA is: {}\".format(numberA).join([\"\", \"\"]))\n",
    "\n",
    "# Concatenating variables with strings using f-strings with multiple variables\n",
    "print(f\"The value of numberA is: {numberA}, stringB is: {stringB}, decimalNumberC is: {decimalNumberC}\")\n",
    "\n",
    "# Concatenating variables with strings using format method with multiple variables\n",
    "print(\"The value of numberA is: {}, stringB is: {}, decimalNumberC is: {}\".format(numberA, stringB, decimalNumberC))"
   ]
  },
  {
   "cell_type": "markdown",
   "id": "7a51fa7f",
   "metadata": {},
   "source": [
    "#### Input\n",
    "\n",
    "The input function always returns the result in string data type. We need to convert the data type into the desired data type."
   ]
  },
  {
   "cell_type": "code",
   "execution_count": null,
   "id": "ff55f1e0",
   "metadata": {},
   "outputs": [],
   "source": [
    "retrievedInput = False\n",
    "while not retrievedInput:\n",
    "    # input form user\n",
    "    userInput = input(\"Please enter the length of a soccer field (in meters): \")\n",
    "    # Check if the input is empty\n",
    "    if not userInput:\n",
    "        print(\"No input provided. Please enter a valid number.\")\n",
    "    else:\n",
    "        # Check if the input is a valid number\n",
    "        if userInput.isdigit():\n",
    "            print(f\"The input is a valid number: {userInput} meters\")\n",
    "            # Convert user input to integer\n",
    "            userInputLength = int(userInput)\n",
    "            print(f\"The length of the soccer field you entered is: {userInputLength} meters\")\n",
    "            retrievedInput = True\n",
    "        else:\n",
    "            print(\"The input is not a valid number. Please enter a valid number.\")\n",
    "    "
   ]
  },
  {
   "cell_type": "markdown",
   "id": "2925511e",
   "metadata": {},
   "source": [
    "### Exercise 1: Last quarter salary bonus at work I\n",
    "\n",
    "**Situation**\n",
    "You are company's IT Manager and the HR Department asked for your help: They need you to calculate the last quarter salary bonus for each employee. In order to do so, you must input certain information about every employee and according to this information you should calculate the bonus.\n",
    "\n",
    "**Restrictions**\n",
    "-  The salary should be treated as integer data type\n",
    "-  The salary bonus is calculated as 10% of employer's salary plus 50 USD\n",
    "-  There has to be a counter about how many times a new bonus is calculated."
   ]
  },
  {
   "cell_type": "code",
   "execution_count": null,
   "id": "3c01fdd6",
   "metadata": {},
   "outputs": [],
   "source": [
    "# Input for the last quarter salary bonus calculation\n",
    "# Initialize the bonus calculation counter\n",
    "calculatedBonus = 0\n",
    "# Input employee name\n",
    "name = input(\"Input employee name: \")\n",
    "# Input employee salary and convert it to integer\n",
    "salary = int(input(\"Input employee salary (USD): \"))\n",
    "# Calculate the bonus based on the salary\n",
    "bonus = salary * 0.1 + 50\n",
    "# Increment the bonus calculation counter\n",
    "calculatedBonus += 1\n",
    "print(f\"Employee {name} has a salary of {salary} USD and a bonus of {bonus} USD for the last quarter.\")"
   ]
  },
  {
   "cell_type": "markdown",
   "id": "c8c06ab4",
   "metadata": {},
   "source": [
    "### Exercise 2: Last quarter salary bonus at work II\n",
    "\n",
    "The same scenario from the previous exercise.\n",
    "\n",
    "Let's use the bonus value is stored in the variable ```bonus```. The business owner decided to upgrade the bonus for the employees. To calculate the new augmentation there's some restrictions\n",
    "\n",
    "**Restrictions**\n",
    "- Capture the employee duration\n",
    "- Multiply employee duration and bonus\n",
    "- Divide the multiplication by 10 and add 10 USD\n"
   ]
  },
  {
   "cell_type": "code",
   "execution_count": null,
   "id": "03fd1d95",
   "metadata": {},
   "outputs": [],
   "source": [
    "# Capture employee duration in the company\n",
    "duration = int(input(\"Input employee duration in the company (in years): \"))\n",
    "# Calculate the bonus based on the duration\n",
    "bonusUpgrade = (bonus * duration)/10 + 10\n",
    "print(f\"Employee {name} has a duration of {duration} years in the company and a bonus upgrade of {bonusUpgrade} USD for the last quarter.\")\n"
   ]
  },
  {
   "cell_type": "markdown",
   "id": "ba1b8176",
   "metadata": {},
   "source": [
    "### Module final exercise\n",
    "\n"
   ]
  },
  {
   "cell_type": "code",
   "execution_count": null,
   "id": "3ad3af04",
   "metadata": {},
   "outputs": [
    {
     "name": "stdout",
     "output_type": "stream",
     "text": [
      "a: 20, b: 6, c: 0\n"
     ]
    }
   ],
   "source": [
    "# Question 1, 2, 10: Final value of a,b,c variable after a series of operations\n",
    "# Given the following operations:\n",
    "a = 1\n",
    "a = 1\n",
    "b = 2\n",
    "\n",
    "a = a+1\n",
    "a = a*10\n",
    "b = a//3\n",
    "c = b%2\n",
    "\n",
    "# Final values of a, b, and c\n",
    "print(f\"a: {a}, b: {b}, c: {c}\")"
   ]
  },
  {
   "cell_type": "code",
   "execution_count": null,
   "id": "992c6e17",
   "metadata": {},
   "outputs": [],
   "source": [
    "# Question 3: \n",
    "#Eres el encargado de informática de una empresa. El departamento de recursos humanos te pidió ayuda para empezar a digitalizar sus actividades. En este caso, el problema es el siguiente: \n",
    "#\n",
    "#La variable \"nombre\" contiene el nombre del empleado de una empresa. No obstante, acaba de cambiar su nombre, por lo que quiere cambiar el contenido de esta variable ingresando su nuevo nombre en la consola. Si queremos reemplazar el contenido de la variable \"nombre\" por un texto que ingrese el usuario, ¿qué alternativa representaría mejor el código para poder hacerlo?\n",
    "\n",
    "\n",
    "nombre = input(\"Ingrese un texto que reemplace el contenido de la variable nombre\")"
   ]
  },
  {
   "cell_type": "code",
   "execution_count": null,
   "id": "fbbd01d2",
   "metadata": {},
   "outputs": [],
   "source": [
    "# Question 4:\n",
    "#Debes disminuir en 9.12 la cantidad de horas trabajadas por una persona durante el mes debido a un problema con el sistema de información que registra el horario de los trabajadores. Por lo mismo, es muy importante identificar qué tipo de dato es -9.12 en Python. \n",
    "\n",
    "#En función de este planteamiento, ¿cuál de las siguientes afirmaciones no es correcta?\n",
    "\n",
    "# a. \"-9.12\" es de tipo string.\n",
    "# b. -9.12 es de tipo float.\n",
    "# c. 9 es de tipo int.\n",
    "# d. -9.12 es de tipo int. [CORRECT]"
   ]
  },
  {
   "cell_type": "code",
   "execution_count": null,
   "id": "bfe56fb1",
   "metadata": {},
   "outputs": [],
   "source": [
    "# Question 5:\n",
    "# 2 días es la cantidad de vacaciones que tiene acumuladas una persona al momento de renunciar. Dicha persona decide tomarse la mitad de las vacaciones y el resto recibirlo en dinero.\n",
    "\n",
    "# ¿Cuál es el valor de cant_dinero después de la ejecución del código que aparece a continuación?\n",
    "\n",
    "#dias_vacaciones = \"10.2\"\n",
    "#cant_dinero = dias_vacaciones / 2\n",
    "\n",
    "\n",
    "# a. 8.2.\n",
    "# b. 5.1.\n",
    "# c. 5.\n",
    "# d. Ninguna de las respuestas es correcta. [CORRECT]"
   ]
  },
  {
   "cell_type": "code",
   "execution_count": null,
   "id": "d340a6d3",
   "metadata": {},
   "outputs": [],
   "source": [
    "# Question 6:\n",
    "# Supongamos que estamos en el mes de agosto y se desea calcular el promedio de ventas de los tres últimos meses.\n",
    "# ¿Cuál de las siguientes alternativas representaría mejor un código para poder lograrlo?\n",
    "\n",
    "\n",
    "\n",
    "# a. promedio_ventas = (venta_julio+ventas_junio+ventas_mayo)/3 [CORRECT]\n",
    "# b. promedio_ventas = (ventas_junio+ventas_mayo)/3\n",
    "# c. promedio_ventas = (venta_julio+ventas_junio+ventas_mayo)/2\n",
    "# d. promedio_ventas = ventas_julio/3"
   ]
  },
  {
   "cell_type": "code",
   "execution_count": null,
   "id": "b3d29903",
   "metadata": {},
   "outputs": [],
   "source": [
    "# Question 7:\n",
    "# Cuál de las siguientes alternativas representaría mejor un código para transformar a decimal una variable de nombre prom_ventas_anual que contiene un string con el promedio anual de ventas?\n",
    "\n",
    "# a. prom_ventas_anual = float(prom_ventas_anual) [CORRECT]\n",
    "# b. prom_ventas_anual = prom_ventas_anual.dec()\n",
    "# c. prom_ventas_anual = prom_ventas_anual.float()\n",
    "# d. prom_ventas_anual = dec(prom_ventas_anual)"
   ]
  },
  {
   "cell_type": "code",
   "execution_count": null,
   "id": "a3558cb9",
   "metadata": {},
   "outputs": [],
   "source": [
    "# Question 8:\n",
    "# Eres el encargado de informática de una empresa. El departamento de recursos humanos te pidió ayuda para empezar a digitalizar sus actividades. Si tenemos una variable \"nombre\" con el nombre de una persona, ¿cómo podríamos imprimirla en la consola?\n",
    "\n",
    "# a. str(nombre)\n",
    "# b. print(nombre) [CORRECT]\n",
    "# c. print(\"nombre\")\n",
    "# d. nombre"
   ]
  },
  {
   "cell_type": "code",
   "execution_count": null,
   "id": "ec979199",
   "metadata": {},
   "outputs": [],
   "source": [
    "# Question 9:\n",
    "# Supongamos que queremos contar la cantidad de personas que tomarán vacaciones. Esta información la estamos almacenando en una variable llamada cant_personas. Si quisiéramos aumentar en uno el valor de esta variable, ¿cuál de estas alternativas representa mejor un código que lo haga?\n",
    "\n",
    "# a. cant_personas = 1\n",
    "# b. cant_persona,1\n",
    "# c. cant_personas = cant_personas + 1\n",
    "# d. cant_personas + 1\n"
   ]
  },
  {
   "cell_type": "markdown",
   "id": "41acd980",
   "metadata": {},
   "source": [
    "## Module 2: Unknown yet"
   ]
  },
  {
   "cell_type": "code",
   "execution_count": null,
   "id": "3bb85053-699f-4278-9cb6-81e4f5ae7a02",
   "metadata": {},
   "outputs": [],
   "source": []
  },
  {
   "cell_type": "markdown",
   "id": "0c180a2f",
   "metadata": {},
   "source": [
    "## Module 3: Unknown yet"
   ]
  },
  {
   "cell_type": "code",
   "execution_count": null,
   "id": "371b8198",
   "metadata": {},
   "outputs": [],
   "source": []
  },
  {
   "cell_type": "markdown",
   "id": "3bfa3916",
   "metadata": {},
   "source": [
    "## Module 4: Unknown yet"
   ]
  },
  {
   "cell_type": "code",
   "execution_count": null,
   "id": "a9280a89",
   "metadata": {},
   "outputs": [],
   "source": []
  },
  {
   "cell_type": "markdown",
   "id": "43c3b70b",
   "metadata": {},
   "source": [
    "## Module 5: Unkown yet"
   ]
  },
  {
   "cell_type": "code",
   "execution_count": null,
   "id": "f889fe74",
   "metadata": {},
   "outputs": [],
   "source": []
  },
  {
   "cell_type": "markdown",
   "id": "5bafd4c6",
   "metadata": {},
   "source": [
    "## Module 6: Unkown yet"
   ]
  },
  {
   "cell_type": "code",
   "execution_count": null,
   "id": "79247c4c",
   "metadata": {},
   "outputs": [],
   "source": []
  },
  {
   "cell_type": "markdown",
   "id": "4a6bc567",
   "metadata": {},
   "source": [
    "## Module 7: Unkown yet"
   ]
  },
  {
   "cell_type": "code",
   "execution_count": null,
   "id": "3f00bbbb",
   "metadata": {},
   "outputs": [],
   "source": []
  },
  {
   "cell_type": "markdown",
   "id": "eb7d858b",
   "metadata": {},
   "source": [
    "## Module 8: Unkown yet"
   ]
  },
  {
   "cell_type": "code",
   "execution_count": null,
   "id": "d801e39e",
   "metadata": {},
   "outputs": [],
   "source": []
  }
 ],
 "metadata": {
  "kernelspec": {
   "display_name": "3.12",
   "language": "python",
   "name": "python3"
  },
  "language_info": {
   "codemirror_mode": {
    "name": "ipython",
    "version": 3
   },
   "file_extension": ".py",
   "mimetype": "text/x-python",
   "name": "python",
   "nbconvert_exporter": "python",
   "pygments_lexer": "ipython3",
   "version": "3.12.11"
  }
 },
 "nbformat": 4,
 "nbformat_minor": 5
}
