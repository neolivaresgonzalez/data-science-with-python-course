{
 "cells": [
  {
   "cell_type": "markdown",
   "id": "4cdf75f5-4a83-4411-b2d7-8d396e47496a",
   "metadata": {},
   "source": [
    "# Course for Python data processing\n",
    "\n"
   ]
  },
  {
   "cell_type": "markdown",
   "id": "8901eb49-4eb0-4a6c-bb29-b907872cfe1c",
   "metadata": {},
   "source": [
    "## Module 1: Introduction to Python Programming\n",
    "\n",
    "- **Data**: Fact or statistic value from real world measurements\n",
    "- **Information**: Set of data with measurement units that deliver context about real world phenomenon or facts.\n",
    "- **Variable**: Programming language resource that could be used to store data. Normally you could give it a representative name and a value. The value could be in the form of numbers, text or even complex data structures.\n",
    "- **Operators**: Programming language resource that represents, most of them, mathematical operations that the computer should process and deliver a result, if it is programmed to do so."
   ]
  },
  {
   "cell_type": "markdown",
   "id": "f4aaf866",
   "metadata": {},
   "source": [
    "### Difference between Data and information"
   ]
  },
  {
   "cell_type": "markdown",
   "id": "78a3e270",
   "metadata": {},
   "source": [
    "#### This is DATA\n",
    "\n",
    "This are not related, fully without context statistic values.\n",
    "\n",
    "- If we say numberA=10. What does 10 stands for? What daimension of the real world do we wish to measure?\n",
    "- If we say stringB=\"Some text\". In what context this text is valuable?"
   ]
  },
  {
   "cell_type": "code",
   "execution_count": null,
   "id": "a83c7e7a-63f9-42a8-80a2-a127b0e7592d",
   "metadata": {},
   "outputs": [
    {
     "name": "stdout",
     "output_type": "stream",
     "text": [
      "10\n",
      "Some text\n",
      "0.1111\n"
     ]
    }
   ],
   "source": [
    "numberA=10\n",
    "stringB=\"Some text\"\n",
    "decimalNumberC=0.1111\n",
    "print(numberA)\n",
    "print(stringB)\n",
    "print(decimalNumberC)\n",
    "\n"
   ]
  },
  {
   "cell_type": "markdown",
   "id": "ebda1137",
   "metadata": {},
   "source": [
    "#### This is INFORMATION\n",
    "\n",
    "This is real world data with context, it represents information about a topic from the real world.\n",
    "\n",
    "According to Fédération Internationale de Football Association (FIFA) there are standard dimensions for football soccer fields.\n",
    "In that context, when we describe variables like \"SoccerFieldLength\" or \"SoccerFieldWidth\" we are describing numbers with measure units like meters and these numbers are giving us information about an specific soccer field in the real world."
   ]
  },
  {
   "cell_type": "code",
   "execution_count": null,
   "id": "1171efb7",
   "metadata": {},
   "outputs": [
    {
     "name": "stdout",
     "output_type": "stream",
     "text": [
      "The soccer field length is: 105\n",
      "The soccer field width is: 68\n"
     ]
    }
   ],
   "source": [
    "# Soccer field dimensions in meters\n",
    "# According to FIFA, the standard dimensions for a soccer field are:\n",
    "# Length: 100 to 110 meters\n",
    "# Width: 64 to 75 meters\n",
    "# For this example, we will use the most common dimensions:\n",
    "SoccerFieldName=\"Santiago Bernabéu Stadium\"\n",
    "SoccerFieldLength=105\n",
    "SoccerFieldWidth=68\n",
    "print(\"The soccer field length is: {0}\".format(SoccerFieldLength))\n",
    "print(\"The soccer field width is: {0}\".format(SoccerFieldWidth))"
   ]
  },
  {
   "cell_type": "markdown",
   "id": "e27762e8",
   "metadata": {},
   "source": [
    "### Operators"
   ]
  },
  {
   "cell_type": "markdown",
   "id": "bb4023e6",
   "metadata": {},
   "source": [
    "#### Sum numbers"
   ]
  },
  {
   "cell_type": "code",
   "execution_count": null,
   "id": "ba914ec8",
   "metadata": {},
   "outputs": [],
   "source": [
    "# Sum numbers\n",
    "numberVariable1 = 10\n",
    "numberVariable2 = 20\n",
    "sumNumbers = numberVariable1 + numberVariable2\n",
    "print(sumNumbers)"
   ]
  },
  {
   "cell_type": "markdown",
   "id": "4147f9e6",
   "metadata": {},
   "source": [
    "### Concatenate strings Operations"
   ]
  },
  {
   "cell_type": "code",
   "execution_count": 3,
   "id": "29871ec0",
   "metadata": {},
   "outputs": [
    {
     "name": "stdout",
     "output_type": "stream",
     "text": [
      "The value of numberA is: 10\n",
      "The value of numberA is: 10\n",
      "The value of numberA is: 10\n",
      "The value of numberA is: 10\n",
      "The value of numberA is: 10\n",
      "The value of numberA is: 10\n",
      "The value of numberA is: 10, stringB is: Some text, decimalNumberC is: 0.1111\n",
      "The value of numberA is: 10, stringB is: Some text, decimalNumberC is: 0.1111\n"
     ]
    }
   ],
   "source": [
    "# Concatenating variables with strings\n",
    "print(\"The value of numberA is: \" + str(numberA))\n",
    "\n",
    "# Concatenating variables with strings using f-strings\n",
    "print(f\"The value of numberA is: {numberA}\")\n",
    "\n",
    "# Concatenating variables with strings using format method\n",
    "print(\"The value of numberA is: {}\".format(numberA))\n",
    "\n",
    "# Concatenating variables with strings using % operator\n",
    "print(\"The value of numberA is: %d\" % numberA)\n",
    "\n",
    "# Concatenating variables with strings using string interpolation\n",
    "print(\"The value of numberA is: {0}\".format(numberA))\n",
    "\n",
    "# Concatenating variables with strings using join method\n",
    "print(\"The value of numberA is: {}\".format(numberA).join([\"\", \"\"]))\n",
    "\n",
    "# Concatenating variables with strings using f-strings with multiple variables\n",
    "print(f\"The value of numberA is: {numberA}, stringB is: {stringB}, decimalNumberC is: {decimalNumberC}\")\n",
    "\n",
    "# Concatenating variables with strings using format method with multiple variables\n",
    "print(\"The value of numberA is: {}, stringB is: {}, decimalNumberC is: {}\".format(numberA, stringB, decimalNumberC))"
   ]
  },
  {
   "cell_type": "markdown",
   "id": "41acd980",
   "metadata": {},
   "source": [
    "## Module 2: Unknown yet"
   ]
  },
  {
   "cell_type": "code",
   "execution_count": null,
   "id": "3bb85053-699f-4278-9cb6-81e4f5ae7a02",
   "metadata": {},
   "outputs": [],
   "source": []
  },
  {
   "cell_type": "markdown",
   "id": "0c180a2f",
   "metadata": {},
   "source": [
    "## Module 3: Unknown yet"
   ]
  },
  {
   "cell_type": "code",
   "execution_count": null,
   "id": "371b8198",
   "metadata": {},
   "outputs": [],
   "source": []
  },
  {
   "cell_type": "markdown",
   "id": "3bfa3916",
   "metadata": {},
   "source": [
    "## Module 4: Unknown yet"
   ]
  },
  {
   "cell_type": "code",
   "execution_count": null,
   "id": "a9280a89",
   "metadata": {},
   "outputs": [],
   "source": []
  },
  {
   "cell_type": "markdown",
   "id": "43c3b70b",
   "metadata": {},
   "source": [
    "## Module 5: Unkown yet"
   ]
  },
  {
   "cell_type": "code",
   "execution_count": null,
   "id": "f889fe74",
   "metadata": {},
   "outputs": [],
   "source": []
  },
  {
   "cell_type": "markdown",
   "id": "5bafd4c6",
   "metadata": {},
   "source": [
    "## Module 6: Unkown yet"
   ]
  },
  {
   "cell_type": "code",
   "execution_count": null,
   "id": "79247c4c",
   "metadata": {},
   "outputs": [],
   "source": []
  },
  {
   "cell_type": "markdown",
   "id": "4a6bc567",
   "metadata": {},
   "source": [
    "## Module 7: Unkown yet"
   ]
  },
  {
   "cell_type": "code",
   "execution_count": null,
   "id": "3f00bbbb",
   "metadata": {},
   "outputs": [],
   "source": []
  },
  {
   "cell_type": "markdown",
   "id": "eb7d858b",
   "metadata": {},
   "source": [
    "## Module 8: Unkown yet"
   ]
  },
  {
   "cell_type": "code",
   "execution_count": null,
   "id": "d801e39e",
   "metadata": {},
   "outputs": [],
   "source": []
  }
 ],
 "metadata": {
  "kernelspec": {
   "display_name": ".venv",
   "language": "python",
   "name": "python3"
  },
  "language_info": {
   "codemirror_mode": {
    "name": "ipython",
    "version": 3
   },
   "file_extension": ".py",
   "mimetype": "text/x-python",
   "name": "python",
   "nbconvert_exporter": "python",
   "pygments_lexer": "ipython3",
   "version": "3.12.11"
  }
 },
 "nbformat": 4,
 "nbformat_minor": 5
}
