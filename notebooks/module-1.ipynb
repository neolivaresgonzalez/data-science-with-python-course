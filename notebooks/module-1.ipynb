{
 "cells": [
  {
   "cell_type": "markdown",
   "id": "ea74828d",
   "metadata": {},
   "source": [
    "### Exercise 1: Last quarter salary bonus at work I\n",
    "\n",
    "**Situation**\n",
    "You are company's IT Manager and the HR Department asked for your help: They need you to calculate the last quarter salary bonus for each employee. In order to do so, you must input certain information about every employee and according to this information you should calculate the bonus.\n",
    "\n",
    "**Restrictions**\n",
    "-  The salary should be treated as integer data type\n",
    "-  The salary bonus is calculated as 10% of employer's salary plus 50 USD\n",
    "-  There has to be a counter about how many times a new bonus is calculated."
   ]
  },
  {
   "cell_type": "code",
   "execution_count": null,
   "id": "4e8c6af7",
   "metadata": {},
   "outputs": [],
   "source": [
    "# Input for the last quarter salary bonus calculation\n",
    "# Initialize the bonus calculation counter\n",
    "calculatedBonus = 0\n",
    "# Input employee name\n",
    "name = input(\"Input employee name: \")\n",
    "# Input employee salary and convert it to integer\n",
    "salary = int(input(\"Input employee salary (USD): \"))\n",
    "# Calculate the bonus based on the salary\n",
    "bonus = salary * 0.1 + 50\n",
    "# Increment the bonus calculation counter\n",
    "calculatedBonus += 1\n",
    "print(f\"Employee {name} has a salary of {salary} USD and a bonus of {bonus} USD for the last quarter.\")"
   ]
  },
  {
   "cell_type": "markdown",
   "id": "eba46eea",
   "metadata": {},
   "source": [
    "### Exercise 2: Last quarter salary bonus at work II\n",
    "\n",
    "The same scenario from the previous exercise.\n",
    "\n",
    "Let's use the bonus value is stored in the variable ```bonus```. The business owner decided to upgrade the bonus for the employees. To calculate the new augmentation there's some restrictions\n",
    "\n",
    "**Restrictions**\n",
    "- Capture the employee duration\n",
    "- Multiply employee duration and bonus\n",
    "- Divide the multiplication by 10 and add 10 USD\n"
   ]
  },
  {
   "cell_type": "code",
   "execution_count": null,
   "id": "a7f4f960",
   "metadata": {},
   "outputs": [],
   "source": [
    "# Capture employee duration in the company\n",
    "duration = int(input(\"Input employee duration in the company (in years): \"))\n",
    "# Calculate the bonus based on the duration\n",
    "bonusUpgrade = (bonus * duration)/10 + 10\n",
    "print(f\"Employee {name} has a duration of {duration} years in the company and a bonus upgrade of {bonusUpgrade} USD for the last quarter.\")\n"
   ]
  },
  {
   "cell_type": "markdown",
   "id": "ac5f6cec",
   "metadata": {},
   "source": [
    "### Module 1 Final test\n",
    "\n"
   ]
  },
  {
   "cell_type": "markdown",
   "id": "89543d43",
   "metadata": {},
   "source": [
    "**Questions 1,2 & 10**\n",
    "\n",
    "Final value of a,b,c variables after a series of operations\n",
    "Given the following operations:\n"
   ]
  },
  {
   "cell_type": "code",
   "execution_count": null,
   "id": "c2877a9e",
   "metadata": {},
   "outputs": [
    {
     "name": "stdout",
     "output_type": "stream",
     "text": [
      "a: 20, b: 6, c: 0\n"
     ]
    }
   ],
   "source": [
    "a = 1\n",
    "a = 1\n",
    "b = 2\n",
    "\n",
    "a = a+1\n",
    "a = a*10\n",
    "b = a//3\n",
    "c = b%2\n",
    "\n",
    "# Final values of a, b, and c\n",
    "print(f\"a: {a}, b: {b}, c: {c}\")"
   ]
  },
  {
   "cell_type": "markdown",
   "id": "efbbdc78",
   "metadata": {},
   "source": [
    "**Question 3**\n",
    "\n",
    "You are the company's IT manager. The RRHH department asked for your help to digitalize their activities. In this case, this is the challenge:\n",
    "\n",
    "The variable \"name\" contains the name of some company's employee. Nevertheless, he just changed his name, therfore he wants to change the content of the variable \"name\" with a new text given by the user. Which alternative would be a better way to do it?"
   ]
  },
  {
   "cell_type": "code",
   "execution_count": null,
   "id": "d14215f8",
   "metadata": {},
   "outputs": [],
   "source": [
    "name = input(\"Input a text to replace the content of the name variable\")"
   ]
  },
  {
   "cell_type": "markdown",
   "id": "c1ca9e2b",
   "metadata": {},
   "source": [
    "**Question 4**\n",
    "\n",
    "You must decrease the number of hours worked by a person during the month by 9.12 due to a problem with the information system that records employee hours. Therefore, it is very important to identify the date type that is -9.12 in Python.\n",
    "\n",
    "Based on this approach, which of the following statements is incorrect?\n",
    "\n",
    "- a. \"-9.12\" is a string.\n",
    "- b. -9.12 is a float.\n",
    "- c. 9 is an integer.\n",
    "- **d. -9.12 is an integer.**"
   ]
  },
  {
   "cell_type": "markdown",
   "id": "e6a07939",
   "metadata": {},
   "source": [
    "**Question 5**\n",
    "\n",
    "2 days is the amount of vacation time a person has accrued at the time of resigning. They decide to take half of their vacation time and receive the rest in cash.\n",
    "\n",
    "What is the value of cant_dinero after executing the code below?\n"
   ]
  },
  {
   "cell_type": "code",
   "execution_count": null,
   "id": "1b437ef7",
   "metadata": {},
   "outputs": [],
   "source": [
    "vacation_days = \"10.2\"\n",
    "money_amount = vacation_days / 2"
   ]
  },
  {
   "cell_type": "markdown",
   "id": "eb46fd77",
   "metadata": {},
   "source": [
    "- a. 8.2.\n",
    "- b. 5.1.\n",
    "- c. 5.\n",
    "- **d. None of the above.**"
   ]
  },
  {
   "cell_type": "markdown",
   "id": "d376e3ed",
   "metadata": {},
   "source": [
    "**Question 6**\n",
    "\n",
    "Let's suppose it's August and you want to calculate the average sales for the last three months.\n",
    "\n",
    "Which of the following alternatives would best represent a code to achieve this?\n",
    "\n",
    "- **a. sales_mean = (sales_july+sales_june+sales_may)/3**\n",
    "- b. sales_mean = (sales_june+sales_may)/3\n",
    "- c. sales_mean = (sales_july+sales_june+sales_may)/2\n",
    "- d. sales_mean = sales_july/3\n"
   ]
  },
  {
   "cell_type": "markdown",
   "id": "5e2614e2",
   "metadata": {},
   "source": [
    "**Question 7**\n",
    "\n",
    "Which of the following alternatives would best represent code to transform a variable named prom_ventas_annual that contains a string with the annual average sales to decimal?\n",
    "\n",
    "- **a. anual_sales_mean = float(anual_sales_mean)**\n",
    "- b. anual_sales_mean = anual_sales_mean.dec()\n",
    "- c. anual_sales_mean = anual_sales_mean.float()\n",
    "- d. anual_sales_mean = dec(anual_sales_mean)"
   ]
  },
  {
   "cell_type": "markdown",
   "id": "2bc6ffed",
   "metadata": {},
   "source": [
    "**Question 8**\n",
    "\n",
    "You're the IT manager for a company. The human resources department asked you for help to start digitizing their activities. If we have a variable \"name\" with a person's name, how could we print it to the console?\n",
    "\n",
    "- a. str(name)\n",
    "- **b. print(name)**\n",
    "- c. print(\"name\")\n",
    "- d. name"
   ]
  },
  {
   "cell_type": "markdown",
   "id": "eb4f145a",
   "metadata": {},
   "source": [
    "**Question 9**\n",
    "\n",
    "Suppose we want to count the number of people who will be taking vacations. We're storing this information in a variable called qty_people. If we wanted to increase the value of this variable by one, which of these alternatives best represents a code that does so?\n",
    "\n",
    "- a. qty_people = 1\n",
    "- b. qty_people,1\n",
    "- **c. qty_people = qty_people + 1**\n",
    "- d. qty_people + 1\n"
   ]
  }
 ],
 "metadata": {
  "language_info": {
   "name": "python"
  }
 },
 "nbformat": 4,
 "nbformat_minor": 5
}
